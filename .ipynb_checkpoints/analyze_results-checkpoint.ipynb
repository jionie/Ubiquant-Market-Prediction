{
 "cells": [
  {
   "cell_type": "code",
   "execution_count": 2,
   "id": "24cb42a1",
   "metadata": {},
   "outputs": [],
   "source": [
    "import os\n",
    "import numpy as np\n",
    "import pandas as pd\n",
    "from tqdm import tqdm\n",
    "from joblib import load, dump, Parallel, delayed\n",
    "\n",
    "from scipy.stats import pearsonr"
   ]
  },
  {
   "cell_type": "code",
   "execution_count": 9,
   "id": "d41454b9",
   "metadata": {},
   "outputs": [],
   "source": [
    "preds = []\n",
    "targets = []\n",
    "\n",
    "for fold in range(4):\n",
    "    preds.append(load(\"../ckpts/ffnn_seed_2022/fold-{}-ohem-1-CyclicLR-lr-0.008-hidden-64-dropout-0.15-l2-0.02-l1-0.0002-epoch-40-direction-1/val_preds_fold_{}.pkl\".format(fold, fold)))\n",
    "    targets.append(load(\"../ckpts/ffnn_seed_2022/fold-{}-ohem-1-CyclicLR-lr-0.008-hidden-64-dropout-0.15-l2-0.02-l1-0.0002-epoch-40-direction-1/val_targets_fold_{}.pkl\".format(fold, fold)))"
   ]
  },
  {
   "cell_type": "code",
   "execution_count": 10,
   "id": "f045b0ec",
   "metadata": {},
   "outputs": [
    {
     "name": "stdout",
     "output_type": "stream",
     "text": [
      "0.15904659602638294\n"
     ]
    }
   ],
   "source": [
    "preds = np.concatenate(preds).flatten()\n",
    "targets = np.concatenate(targets).flatten()\n",
    "\n",
    "corr, _ = pearsonr(preds, targets)\n",
    "\n",
    "print(corr)"
   ]
  },
  {
   "cell_type": "code",
   "execution_count": null,
   "id": "bf189fa8",
   "metadata": {},
   "outputs": [],
   "source": []
  }
 ],
 "metadata": {
  "kernelspec": {
   "display_name": "kaggle",
   "language": "python",
   "name": "kaggle"
  },
  "language_info": {
   "codemirror_mode": {
    "name": "ipython",
    "version": 3
   },
   "file_extension": ".py",
   "mimetype": "text/x-python",
   "name": "python",
   "nbconvert_exporter": "python",
   "pygments_lexer": "ipython3",
   "version": "3.8.8"
  }
 },
 "nbformat": 4,
 "nbformat_minor": 5
}
