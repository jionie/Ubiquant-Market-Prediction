{
 "cells": [
  {
   "cell_type": "code",
   "execution_count": 1,
   "id": "supreme-baking",
   "metadata": {},
   "outputs": [],
   "source": [
    "import os\n",
    "import gc\n",
    "import random\n",
    "\n",
    "import numpy as np\n",
    "import pandas as pd\n",
    "\n",
    "from tqdm.notebook import tqdm\n",
    "\n",
    "from sklearn.preprocessing import MinMaxScaler\n",
    "from sklearn.metrics import mean_squared_error\n",
    "from sklearn.model_selection import GroupKFold\n",
    "\n",
    "import joblib\n",
    "\n",
    "import torch\n",
    "import torch.nn as nn\n",
    "import torch.optim as optim\n",
    "import torch.nn.functional as F\n",
    "from torch.utils.data import Dataset, DataLoader\n",
    "\n",
    "import warnings\n",
    "warnings.simplefilter('ignore')\n"
   ]
  },
  {
   "cell_type": "code",
   "execution_count": 2,
   "id": "critical-disclosure",
   "metadata": {},
   "outputs": [],
   "source": [
    "def seed_everything(seed: int):  \n",
    "    random.seed(seed)\n",
    "    os.environ['PYTHONHASHSEED'] = str(seed)\n",
    "    np.random.seed(seed)\n",
    "    torch.manual_seed(seed)\n",
    "    torch.cuda.manual_seed(seed)\n",
    "    torch.backends.cudnn.deterministic = True\n",
    "    torch.backends.cudnn.benchmark = True\n",
    "    \n",
    "seed_everything(42)"
   ]
  },
  {
   "cell_type": "code",
   "execution_count": 3,
   "id": "nervous-transmission",
   "metadata": {},
   "outputs": [],
   "source": [
    "PATH = \"./ubiquant-market-prediction\"\n",
    "PRECISION = \"half\"\n",
    "n_features = 300\n",
    "FEATURES = [f'f_{i}' for i in range(n_features)]"
   ]
  },
  {
   "cell_type": "code",
   "execution_count": 5,
   "id": "abroad-alias",
   "metadata": {},
   "outputs": [
    {
     "data": {
      "text/html": [
       "<div>\n",
       "<style scoped>\n",
       "    .dataframe tbody tr th:only-of-type {\n",
       "        vertical-align: middle;\n",
       "    }\n",
       "\n",
       "    .dataframe tbody tr th {\n",
       "        vertical-align: top;\n",
       "    }\n",
       "\n",
       "    .dataframe thead th {\n",
       "        text-align: right;\n",
       "    }\n",
       "</style>\n",
       "<table border=\"1\" class=\"dataframe\">\n",
       "  <thead>\n",
       "    <tr style=\"text-align: right;\">\n",
       "      <th></th>\n",
       "      <th>investment_id</th>\n",
       "      <th>time_id</th>\n",
       "      <th>f_0</th>\n",
       "      <th>f_1</th>\n",
       "      <th>f_2</th>\n",
       "      <th>f_3</th>\n",
       "      <th>f_4</th>\n",
       "      <th>f_5</th>\n",
       "      <th>f_6</th>\n",
       "      <th>f_7</th>\n",
       "      <th>...</th>\n",
       "      <th>f_291</th>\n",
       "      <th>f_292</th>\n",
       "      <th>f_293</th>\n",
       "      <th>f_294</th>\n",
       "      <th>f_295</th>\n",
       "      <th>f_296</th>\n",
       "      <th>f_297</th>\n",
       "      <th>f_298</th>\n",
       "      <th>f_299</th>\n",
       "      <th>target</th>\n",
       "    </tr>\n",
       "  </thead>\n",
       "  <tbody>\n",
       "    <tr>\n",
       "      <th>0</th>\n",
       "      <td>1</td>\n",
       "      <td>0</td>\n",
       "      <td>0.932617</td>\n",
       "      <td>0.113708</td>\n",
       "      <td>-0.402100</td>\n",
       "      <td>0.378418</td>\n",
       "      <td>-0.203979</td>\n",
       "      <td>-0.413574</td>\n",
       "      <td>0.965820</td>\n",
       "      <td>1.230469</td>\n",
       "      <td>...</td>\n",
       "      <td>-1.095703</td>\n",
       "      <td>0.200073</td>\n",
       "      <td>0.819336</td>\n",
       "      <td>0.941406</td>\n",
       "      <td>-0.086792</td>\n",
       "      <td>-1.086914</td>\n",
       "      <td>-1.044922</td>\n",
       "      <td>-0.287598</td>\n",
       "      <td>0.321533</td>\n",
       "      <td>-0.300781</td>\n",
       "    </tr>\n",
       "    <tr>\n",
       "      <th>1</th>\n",
       "      <td>2</td>\n",
       "      <td>0</td>\n",
       "      <td>0.811035</td>\n",
       "      <td>-0.514160</td>\n",
       "      <td>0.742188</td>\n",
       "      <td>-0.616699</td>\n",
       "      <td>-0.194214</td>\n",
       "      <td>1.771484</td>\n",
       "      <td>1.427734</td>\n",
       "      <td>1.133789</td>\n",
       "      <td>...</td>\n",
       "      <td>0.912598</td>\n",
       "      <td>-0.734375</td>\n",
       "      <td>0.819336</td>\n",
       "      <td>0.941406</td>\n",
       "      <td>-0.387695</td>\n",
       "      <td>-1.086914</td>\n",
       "      <td>-0.929688</td>\n",
       "      <td>-0.974121</td>\n",
       "      <td>-0.343506</td>\n",
       "      <td>-0.231079</td>\n",
       "    </tr>\n",
       "    <tr>\n",
       "      <th>2</th>\n",
       "      <td>6</td>\n",
       "      <td>0</td>\n",
       "      <td>0.394043</td>\n",
       "      <td>0.615723</td>\n",
       "      <td>0.567871</td>\n",
       "      <td>-0.607910</td>\n",
       "      <td>0.068909</td>\n",
       "      <td>-1.083008</td>\n",
       "      <td>0.979492</td>\n",
       "      <td>-1.125977</td>\n",
       "      <td>...</td>\n",
       "      <td>0.912598</td>\n",
       "      <td>-0.551758</td>\n",
       "      <td>-1.220703</td>\n",
       "      <td>-1.060547</td>\n",
       "      <td>-0.219116</td>\n",
       "      <td>-1.086914</td>\n",
       "      <td>-0.612305</td>\n",
       "      <td>-0.113953</td>\n",
       "      <td>0.243652</td>\n",
       "      <td>0.568848</td>\n",
       "    </tr>\n",
       "    <tr>\n",
       "      <th>3</th>\n",
       "      <td>7</td>\n",
       "      <td>0</td>\n",
       "      <td>-2.343750</td>\n",
       "      <td>-0.011871</td>\n",
       "      <td>1.875000</td>\n",
       "      <td>-0.606445</td>\n",
       "      <td>-0.586914</td>\n",
       "      <td>-0.815918</td>\n",
       "      <td>0.778320</td>\n",
       "      <td>0.299072</td>\n",
       "      <td>...</td>\n",
       "      <td>0.912598</td>\n",
       "      <td>-0.266357</td>\n",
       "      <td>-1.220703</td>\n",
       "      <td>0.941406</td>\n",
       "      <td>-0.608887</td>\n",
       "      <td>0.104919</td>\n",
       "      <td>-0.783203</td>\n",
       "      <td>1.151367</td>\n",
       "      <td>-0.773438</td>\n",
       "      <td>-1.064453</td>\n",
       "    </tr>\n",
       "    <tr>\n",
       "      <th>4</th>\n",
       "      <td>8</td>\n",
       "      <td>0</td>\n",
       "      <td>0.842285</td>\n",
       "      <td>-0.262939</td>\n",
       "      <td>2.330078</td>\n",
       "      <td>-0.583496</td>\n",
       "      <td>-0.618164</td>\n",
       "      <td>-0.742676</td>\n",
       "      <td>-0.946777</td>\n",
       "      <td>1.230469</td>\n",
       "      <td>...</td>\n",
       "      <td>0.912598</td>\n",
       "      <td>-0.741211</td>\n",
       "      <td>-1.220703</td>\n",
       "      <td>0.941406</td>\n",
       "      <td>-0.588379</td>\n",
       "      <td>0.104919</td>\n",
       "      <td>0.753418</td>\n",
       "      <td>1.345703</td>\n",
       "      <td>-0.737793</td>\n",
       "      <td>-0.531738</td>\n",
       "    </tr>\n",
       "  </tbody>\n",
       "</table>\n",
       "<p>5 rows × 303 columns</p>\n",
       "</div>"
      ],
      "text/plain": [
       "   investment_id  time_id       f_0       f_1       f_2       f_3       f_4  \\\n",
       "0              1        0  0.932617  0.113708 -0.402100  0.378418 -0.203979   \n",
       "1              2        0  0.811035 -0.514160  0.742188 -0.616699 -0.194214   \n",
       "2              6        0  0.394043  0.615723  0.567871 -0.607910  0.068909   \n",
       "3              7        0 -2.343750 -0.011871  1.875000 -0.606445 -0.586914   \n",
       "4              8        0  0.842285 -0.262939  2.330078 -0.583496 -0.618164   \n",
       "\n",
       "        f_5       f_6       f_7  ...     f_291     f_292     f_293     f_294  \\\n",
       "0 -0.413574  0.965820  1.230469  ... -1.095703  0.200073  0.819336  0.941406   \n",
       "1  1.771484  1.427734  1.133789  ...  0.912598 -0.734375  0.819336  0.941406   \n",
       "2 -1.083008  0.979492 -1.125977  ...  0.912598 -0.551758 -1.220703 -1.060547   \n",
       "3 -0.815918  0.778320  0.299072  ...  0.912598 -0.266357 -1.220703  0.941406   \n",
       "4 -0.742676 -0.946777  1.230469  ...  0.912598 -0.741211 -1.220703  0.941406   \n",
       "\n",
       "      f_295     f_296     f_297     f_298     f_299    target  \n",
       "0 -0.086792 -1.086914 -1.044922 -0.287598  0.321533 -0.300781  \n",
       "1 -0.387695 -1.086914 -0.929688 -0.974121 -0.343506 -0.231079  \n",
       "2 -0.219116 -1.086914 -0.612305 -0.113953  0.243652  0.568848  \n",
       "3 -0.608887  0.104919 -0.783203  1.151367 -0.773438 -1.064453  \n",
       "4 -0.588379  0.104919  0.753418  1.345703 -0.737793 -0.531738  \n",
       "\n",
       "[5 rows x 303 columns]"
      ]
     },
     "execution_count": 5,
     "metadata": {},
     "output_type": "execute_result"
    }
   ],
   "source": [
    "if PRECISION == \"half\":\n",
    "    train = pd.read_pickle(f'{PATH}/train.pkl')\n",
    "else:\n",
    "    train = pd.read_csv(f'{PATH}/train.csv')\n",
    "    _ = train.pop(\"row_id\")\n",
    "    \n",
    "train.head()"
   ]
  },
  {
   "cell_type": "code",
   "execution_count": 6,
   "id": "manual-shanghai",
   "metadata": {},
   "outputs": [],
   "source": [
    "train[\"target_\"] = train.groupby(\"investment_id\")['target'].shift(2)\n",
    "train[\"target_\"] = train[\"target_\"].fillna(train[\"target\"])\n",
    "# train[\"target\"] = train[\"target_\"]"
   ]
  },
  {
   "cell_type": "code",
   "execution_count": null,
   "id": "desirable-curve",
   "metadata": {},
   "outputs": [],
   "source": []
  },
  {
   "cell_type": "code",
   "execution_count": 6,
   "id": "handled-organ",
   "metadata": {},
   "outputs": [],
   "source": [
    "class UMPDataset(Dataset):\n",
    "    def __init__(self, df_data, mode='train'):\n",
    "        self.mode = mode\n",
    "        \n",
    "        self.time_id = df_data['time_id'].values.astype(np.int32)\n",
    "        self.investment_id = df_data['investment_id'].values.astype(np.int32)\n",
    "        self.values = df_data[FEATURES].values\n",
    "        if self.mode != 'test':\n",
    "            self.targets = df_data['target'].values\n",
    "            \n",
    "        self.len = df_data.shape[0]\n",
    "        \n",
    "    def __len__(self):\n",
    "        return self.len\n",
    "    \n",
    "    def __getitem__(self, idx):\n",
    "        time_id = self.time_id[idx]\n",
    "        investment_id = self.investment_id[idx]\n",
    "        values = self.values[idx]\n",
    "        if self.mode != 'test':\n",
    "            targets = self.targets[idx]\n",
    "            return time_id, investment_id, values, targets\n",
    "        else:\n",
    "            return time_id, investment_id, values"
   ]
  },
  {
   "cell_type": "code",
   "execution_count": 7,
   "id": "turkish-shannon",
   "metadata": {},
   "outputs": [],
   "source": [
    "def swish(x):\n",
    "    return x * torch.sigmoid(x)\n",
    "\n",
    "# Residual block\n",
    "class Residual1D(nn.Module):\n",
    "    def __init__(self, in_dim, out_dim, activation='relu'):\n",
    "        super(Residual1D, self).__init__()\n",
    "        self.fc1 = nn.Linear(in_dim, out_dim)\n",
    "        self.bn1 = nn.BatchNorm1d(out_dim)\n",
    "        \n",
    "        if activation == 'relu':\n",
    "            self.activate = nn.ReLU(inplace=True)\n",
    "        elif activation == 'swish':\n",
    "            self.activate = swish\n",
    "        else:\n",
    "            raise NotImplementedError\n",
    "            \n",
    "        self.fc2 = nn.Linear(out_dim, out_dim)\n",
    "        self.bn2 = nn.BatchNorm1d(out_dim)\n",
    "        \n",
    "    def forward(self, x):\n",
    "        residual = x\n",
    "        x = self.fc1(x)\n",
    "        x = self.bn1(x)\n",
    "        x = self.activate(x)\n",
    "        x = self.fc2(x)\n",
    "        x = self.bn2(x)\n",
    "        \n",
    "        x += residual\n",
    "        x = self.activate(x)\n",
    "        return x\n",
    "\n",
    "\n",
    "class SimpleMLP(nn.Module):\n",
    "    def __init__(self, value_dim=300, emb_size=16, time_emb=1220, investment_emb=3774):\n",
    "        super().__init__()\n",
    "        self.time_emb = nn.Embedding(time_emb, emb_size)\n",
    "        self.investment_emb = nn.Embedding(investment_emb, emb_size)\n",
    "        \n",
    "        self.bn0 = nn.BatchNorm1d(value_dim)\n",
    "        self.head = nn.Linear(value_dim, 256)\n",
    "        \n",
    "        self.res1 = Residual1D(256, 256, 'relu')\n",
    "        self.drop1 = nn.Dropout(0.5)\n",
    "        self.trans1 = nn.Linear(256, 128)\n",
    "        self.res2 = Residual1D(128, 128, 'relu')\n",
    "        self.drop2 = nn.Dropout(0.5)\n",
    "        self.trans2 = nn.Linear(128, 32)\n",
    "        self.res3 = Residual1D(32, 32, 'relu')\n",
    "        self.drop3 = nn.Dropout(0.5)\n",
    "\n",
    "        self.tail = nn.Linear(32, 1)\n",
    "        \n",
    "    def forward(self, x_value):\n",
    "#         time_emb = self.time_emb(x_time)\n",
    "#         investment_emb = self.investment_emb(x_investment)\n",
    "        \n",
    "#         x = torch.cat([x_value, time_emb, investment_emb], 1)\n",
    "        \n",
    "#         x = torch.cat([x_value, investment_emb], 1)\n",
    "        x = self.bn0(x_value)\n",
    "        \n",
    "        x = swish(self.head(x))\n",
    "        x = self.drop1(self.res1(x))\n",
    "        x = swish(self.trans1(x))\n",
    "        x = self.drop2(self.res2(x))\n",
    "        x = swish(self.trans2(x))\n",
    "        x = self.drop3(self.res3(x))\n",
    "        \n",
    "        x = self.tail(x)\n",
    "        \n",
    "        return x"
   ]
  },
  {
   "cell_type": "code",
   "execution_count": 8,
   "id": "cultural-malaysia",
   "metadata": {},
   "outputs": [],
   "source": [
    "def SetL2Regularization(model, weight=0.01):\n",
    "    params=[]\n",
    "    for key, value in model.named_parameters():\n",
    "        if \"bias\" in key:\n",
    "            params += [{'params':value,'weight_decay':0.0}]\n",
    "        else:\n",
    "            params += [{'params':value,'weight_decay':weight}]\n",
    "    return params"
   ]
  },
  {
   "cell_type": "code",
   "execution_count": 9,
   "id": "incomplete-thanksgiving",
   "metadata": {},
   "outputs": [],
   "source": [
    "def train_one_fold(dataloaders, fold_id, split_m='time_id'):\n",
    "    device = torch.device('cuda' if torch.cuda.is_available() else 'cpu')\n",
    "    model = SimpleMLP().to(device)\n",
    "    loss_fn = nn.MSELoss()\n",
    "    params = SetL2Regularization(model, 0.001)\n",
    "    optimizer = optim.Adam(params, lr=5e-4)\n",
    "    scheduler = optim.lr_scheduler.ReduceLROnPlateau(optimizer, \n",
    "                                                     factor=0.25, \n",
    "                                                     patience=3, \n",
    "                                                     mode='min')\n",
    "    epochs = 15\n",
    "    \n",
    "    num_train_examples = len(dataloaders['train'])\n",
    "    num_valid_examples = len(dataloaders['valid'])\n",
    "    \n",
    "    losses = []\n",
    "    best_loss = np.inf\n",
    "    best_score = -100000\n",
    "    print(\"... Start Training ...\")\n",
    "    for e in range(epochs):\n",
    "        # train\n",
    "        model.train()\n",
    "        train_loss = 0\n",
    "        for i, (time_, investment_, value_, target_) in enumerate(tqdm(dataloaders['train'])):\n",
    "            time_ = time_.to(device)\n",
    "            investment_ = investment_.to(device)\n",
    "            value_ = value_.to(device=device, dtype=torch.float)\n",
    "            \n",
    "            target_ = target_.unsqueeze(1).to(device, dtype=torch.float)\n",
    "\n",
    "            y_pred = model(value_)\n",
    "            loss = loss_fn(y_pred, target_)\n",
    "\n",
    "            optimizer.zero_grad()\n",
    "            loss.backward()\n",
    "            optimizer.step()\n",
    "            train_loss += loss.item()\n",
    "        train_epoch_loss = train_loss / num_train_examples\n",
    "\n",
    "        # valid\n",
    "        model.eval()\n",
    "        valid_preds = list()\n",
    "        valid_loss = 0\n",
    "        with torch.no_grad():\n",
    "            for i, (time_, investment_, value_, target_) in enumerate(tqdm(dataloaders['valid'])):\n",
    "                time_ = time_.to(device)\n",
    "                investment_ = investment_.to(device)\n",
    "                value_ = value_.to(device=device, dtype=torch.float)\n",
    "\n",
    "                target_ = target_.unsqueeze(1).to(device, dtype=torch.float)\n",
    "                \n",
    "                y_pred = model(value_)\n",
    "                \n",
    "                val_loss = loss_fn(y_pred, target_)\n",
    "                valid_loss += val_loss.item()\n",
    "                valid_preds.extend(y_pred.detach().cpu().numpy().flatten())\n",
    "                \n",
    "        valid_epoch_loss = valid_loss / num_valid_examples\n",
    "\n",
    "        # change lr\n",
    "        scheduler.step(valid_epoch_loss)\n",
    "\n",
    "        # oof\n",
    "        oof = df_valid[['target']].copy()\n",
    "        oof['pred'] = valid_preds\n",
    "        \n",
    "        score = oof['pred'].corr(oof['target'])\n",
    "#         print(oof['pred'], oof['target'], y_pred)\n",
    "        if score > best_score:\n",
    "            print(\"... score ...\")\n",
    "            oof['best_pred'] = valid_preds\n",
    "            best_preds = valid_preds.copy()\n",
    "            best_score = score\n",
    "        else:\n",
    "            oof['best_pred'] = valid_preds\n",
    "\n",
    "        # print score\n",
    "        print(f\"Epoch {e}, LR: {optimizer.param_groups[0]['lr']}\")\n",
    "        print(f\"train loss: {train_epoch_loss:.8f}, valid loss {valid_epoch_loss:.8f}, pearson score: {score:.6f}\")\n",
    "        losses.append((train_epoch_loss, valid_epoch_loss))\n",
    "\n",
    "        # save model\n",
    "        if best_loss > valid_epoch_loss:\n",
    "            torch.save(model.state_dict(), f'mlp_{split_m}_{fold_id}.pth')\n",
    "            print(f'-- loss from {best_loss:.8f} to {valid_epoch_loss:.8f}, model saved')\n",
    "            best_loss = valid_epoch_loss\n",
    "#         print(oof)\n",
    "        \n",
    "    return losses, oof\n",
    "    "
   ]
  },
  {
   "cell_type": "code",
   "execution_count": 10,
   "id": "affected-hampton",
   "metadata": {},
   "outputs": [
    {
     "name": "stdout",
     "output_type": "stream",
     "text": [
      "Training Fold: 0\n",
      "\n",
      "... Start Training ...\n"
     ]
    },
    {
     "data": {
      "application/vnd.jupyter.widget-view+json": {
       "model_id": "8321707c513c4df4ad20e6c9524541a6",
       "version_major": 2,
       "version_minor": 0
      },
      "text/plain": [
       "  0%|          | 0/1151 [00:00<?, ?it/s]"
      ]
     },
     "metadata": {},
     "output_type": "display_data"
    },
    {
     "data": {
      "application/vnd.jupyter.widget-view+json": {
       "model_id": "90e9ba447c7848658508102cb9340e27",
       "version_major": 2,
       "version_minor": 0
      },
      "text/plain": [
       "  0%|          | 0/384 [00:00<?, ?it/s]"
      ]
     },
     "metadata": {},
     "output_type": "display_data"
    },
    {
     "name": "stdout",
     "output_type": "stream",
     "text": [
      "... score ...\n",
      "Epoch 0, LR: 0.0005\n",
      "train loss: 0.30956685, valid loss 0.20610948, pearson score: 0.877244\n",
      "-- loss from inf to 0.20610948, model saved\n"
     ]
    },
    {
     "data": {
      "application/vnd.jupyter.widget-view+json": {
       "model_id": "e252619b004f47b8b471e277b5297003",
       "version_major": 2,
       "version_minor": 0
      },
      "text/plain": [
       "  0%|          | 0/1151 [00:00<?, ?it/s]"
      ]
     },
     "metadata": {},
     "output_type": "display_data"
    },
    {
     "data": {
      "application/vnd.jupyter.widget-view+json": {
       "model_id": "58d3d34a4bce4e76ae017f9949331d8e",
       "version_major": 2,
       "version_minor": 0
      },
      "text/plain": [
       "  0%|          | 0/384 [00:00<?, ?it/s]"
      ]
     },
     "metadata": {},
     "output_type": "display_data"
    },
    {
     "name": "stdout",
     "output_type": "stream",
     "text": [
      "... score ...\n",
      "Epoch 1, LR: 0.0005\n",
      "train loss: 0.23833852, valid loss 0.19424167, pearson score: 0.884713\n",
      "-- loss from 0.20610948 to 0.19424167, model saved\n"
     ]
    },
    {
     "data": {
      "application/vnd.jupyter.widget-view+json": {
       "model_id": "6ca21ec3687540d49e185f2c684e0e71",
       "version_major": 2,
       "version_minor": 0
      },
      "text/plain": [
       "  0%|          | 0/1151 [00:00<?, ?it/s]"
      ]
     },
     "metadata": {},
     "output_type": "display_data"
    },
    {
     "data": {
      "application/vnd.jupyter.widget-view+json": {
       "model_id": "6a064916535b471ca302021610656203",
       "version_major": 2,
       "version_minor": 0
      },
      "text/plain": [
       "  0%|          | 0/384 [00:00<?, ?it/s]"
      ]
     },
     "metadata": {},
     "output_type": "display_data"
    },
    {
     "name": "stdout",
     "output_type": "stream",
     "text": [
      "... score ...\n",
      "Epoch 2, LR: 0.0005\n",
      "train loss: 0.22756358, valid loss 0.17921056, pearson score: 0.888403\n",
      "-- loss from 0.19424167 to 0.17921056, model saved\n"
     ]
    },
    {
     "data": {
      "application/vnd.jupyter.widget-view+json": {
       "model_id": "78971bb226884cefab8733e784a81d7c",
       "version_major": 2,
       "version_minor": 0
      },
      "text/plain": [
       "  0%|          | 0/1151 [00:00<?, ?it/s]"
      ]
     },
     "metadata": {},
     "output_type": "display_data"
    },
    {
     "data": {
      "application/vnd.jupyter.widget-view+json": {
       "model_id": "b41c0304b89148d3bcb02952183f3dc4",
       "version_major": 2,
       "version_minor": 0
      },
      "text/plain": [
       "  0%|          | 0/384 [00:00<?, ?it/s]"
      ]
     },
     "metadata": {},
     "output_type": "display_data"
    },
    {
     "name": "stdout",
     "output_type": "stream",
     "text": [
      "... score ...\n",
      "Epoch 3, LR: 0.0005\n",
      "train loss: 0.22387008, valid loss 0.18201848, pearson score: 0.890278\n"
     ]
    },
    {
     "data": {
      "application/vnd.jupyter.widget-view+json": {
       "model_id": "bc359fdae33b4edbab789b085f712c5d",
       "version_major": 2,
       "version_minor": 0
      },
      "text/plain": [
       "  0%|          | 0/1151 [00:00<?, ?it/s]"
      ]
     },
     "metadata": {},
     "output_type": "display_data"
    },
    {
     "data": {
      "application/vnd.jupyter.widget-view+json": {
       "model_id": "807046554cc44f6cb4e47a6320404086",
       "version_major": 2,
       "version_minor": 0
      },
      "text/plain": [
       "  0%|          | 0/384 [00:00<?, ?it/s]"
      ]
     },
     "metadata": {},
     "output_type": "display_data"
    },
    {
     "name": "stdout",
     "output_type": "stream",
     "text": [
      "... score ...\n",
      "Epoch 4, LR: 0.0005\n",
      "train loss: 0.21995970, valid loss 0.18042808, pearson score: 0.892715\n"
     ]
    },
    {
     "data": {
      "application/vnd.jupyter.widget-view+json": {
       "model_id": "1ffa8dc8128942d495df446d173396c9",
       "version_major": 2,
       "version_minor": 0
      },
      "text/plain": [
       "  0%|          | 0/1151 [00:00<?, ?it/s]"
      ]
     },
     "metadata": {},
     "output_type": "display_data"
    },
    {
     "data": {
      "application/vnd.jupyter.widget-view+json": {
       "model_id": "4c4b7286fbf34bf7b338e2f8dfeb3078",
       "version_major": 2,
       "version_minor": 0
      },
      "text/plain": [
       "  0%|          | 0/384 [00:00<?, ?it/s]"
      ]
     },
     "metadata": {},
     "output_type": "display_data"
    },
    {
     "name": "stdout",
     "output_type": "stream",
     "text": [
      "... score ...\n",
      "Epoch 5, LR: 0.0005\n",
      "train loss: 0.21847531, valid loss 0.17703901, pearson score: 0.895348\n",
      "-- loss from 0.17921056 to 0.17703901, model saved\n"
     ]
    },
    {
     "data": {
      "application/vnd.jupyter.widget-view+json": {
       "model_id": "d017df8be8934881a4b17097a50f3c65",
       "version_major": 2,
       "version_minor": 0
      },
      "text/plain": [
       "  0%|          | 0/1151 [00:00<?, ?it/s]"
      ]
     },
     "metadata": {},
     "output_type": "display_data"
    },
    {
     "data": {
      "application/vnd.jupyter.widget-view+json": {
       "model_id": "f49203cfbc7f4cb394456aff27adc0ad",
       "version_major": 2,
       "version_minor": 0
      },
      "text/plain": [
       "  0%|          | 0/384 [00:00<?, ?it/s]"
      ]
     },
     "metadata": {},
     "output_type": "display_data"
    },
    {
     "name": "stdout",
     "output_type": "stream",
     "text": [
      "... score ...\n",
      "Epoch 6, LR: 0.0005\n",
      "train loss: 0.21555840, valid loss 0.17671178, pearson score: 0.895777\n",
      "-- loss from 0.17703901 to 0.17671178, model saved\n"
     ]
    },
    {
     "data": {
      "application/vnd.jupyter.widget-view+json": {
       "model_id": "6a2701aaedbc4ca39beff97bdf6408cf",
       "version_major": 2,
       "version_minor": 0
      },
      "text/plain": [
       "  0%|          | 0/1151 [00:00<?, ?it/s]"
      ]
     },
     "metadata": {},
     "output_type": "display_data"
    },
    {
     "data": {
      "application/vnd.jupyter.widget-view+json": {
       "model_id": "b762561126614702a06d2cab59e29e38",
       "version_major": 2,
       "version_minor": 0
      },
      "text/plain": [
       "  0%|          | 0/384 [00:00<?, ?it/s]"
      ]
     },
     "metadata": {},
     "output_type": "display_data"
    },
    {
     "name": "stdout",
     "output_type": "stream",
     "text": [
      "... score ...\n",
      "Epoch 7, LR: 0.0005\n",
      "train loss: 0.21484672, valid loss 0.16581970, pearson score: 0.897213\n",
      "-- loss from 0.17671178 to 0.16581970, model saved\n"
     ]
    },
    {
     "data": {
      "application/vnd.jupyter.widget-view+json": {
       "model_id": "f3dffde3cf1d4997ae787187ace470de",
       "version_major": 2,
       "version_minor": 0
      },
      "text/plain": [
       "  0%|          | 0/1151 [00:00<?, ?it/s]"
      ]
     },
     "metadata": {},
     "output_type": "display_data"
    },
    {
     "data": {
      "application/vnd.jupyter.widget-view+json": {
       "model_id": "03ff67cdc87542b9ba4aaf0b04a7d48e",
       "version_major": 2,
       "version_minor": 0
      },
      "text/plain": [
       "  0%|          | 0/384 [00:00<?, ?it/s]"
      ]
     },
     "metadata": {},
     "output_type": "display_data"
    },
    {
     "name": "stdout",
     "output_type": "stream",
     "text": [
      "Epoch 8, LR: 0.0005\n",
      "train loss: 0.21342176, valid loss 0.17107039, pearson score: 0.896465\n"
     ]
    },
    {
     "data": {
      "application/vnd.jupyter.widget-view+json": {
       "model_id": "3321baca7f3647dca35594728630745f",
       "version_major": 2,
       "version_minor": 0
      },
      "text/plain": [
       "  0%|          | 0/1151 [00:00<?, ?it/s]"
      ]
     },
     "metadata": {},
     "output_type": "display_data"
    },
    {
     "data": {
      "application/vnd.jupyter.widget-view+json": {
       "model_id": "f554b1affd1442f8917d4a644dc97a0b",
       "version_major": 2,
       "version_minor": 0
      },
      "text/plain": [
       "  0%|          | 0/384 [00:00<?, ?it/s]"
      ]
     },
     "metadata": {},
     "output_type": "display_data"
    },
    {
     "name": "stdout",
     "output_type": "stream",
     "text": [
      "Epoch 9, LR: 0.0005\n",
      "train loss: 0.21290955, valid loss 0.18148500, pearson score: 0.891588\n"
     ]
    },
    {
     "data": {
      "application/vnd.jupyter.widget-view+json": {
       "model_id": "763997ea04024d5c99f7fd14c472fdb6",
       "version_major": 2,
       "version_minor": 0
      },
      "text/plain": [
       "  0%|          | 0/1151 [00:00<?, ?it/s]"
      ]
     },
     "metadata": {},
     "output_type": "display_data"
    },
    {
     "data": {
      "application/vnd.jupyter.widget-view+json": {
       "model_id": "032d0fbe5d75470ab5612f3a5c0f77a9",
       "version_major": 2,
       "version_minor": 0
      },
      "text/plain": [
       "  0%|          | 0/384 [00:00<?, ?it/s]"
      ]
     },
     "metadata": {},
     "output_type": "display_data"
    },
    {
     "name": "stdout",
     "output_type": "stream",
     "text": [
      "Epoch 10, LR: 0.0005\n",
      "train loss: 0.21254109, valid loss 0.17225967, pearson score: 0.896499\n"
     ]
    },
    {
     "data": {
      "application/vnd.jupyter.widget-view+json": {
       "model_id": "bf22ab257df441a0b0f6ca0c9a0e3b50",
       "version_major": 2,
       "version_minor": 0
      },
      "text/plain": [
       "  0%|          | 0/1151 [00:00<?, ?it/s]"
      ]
     },
     "metadata": {},
     "output_type": "display_data"
    },
    {
     "data": {
      "application/vnd.jupyter.widget-view+json": {
       "model_id": "722c0e93337c4701b240270907e60e16",
       "version_major": 2,
       "version_minor": 0
      },
      "text/plain": [
       "  0%|          | 0/384 [00:00<?, ?it/s]"
      ]
     },
     "metadata": {},
     "output_type": "display_data"
    },
    {
     "name": "stdout",
     "output_type": "stream",
     "text": [
      "Epoch 11, LR: 0.000125\n",
      "train loss: 0.21165323, valid loss 0.17825753, pearson score: 0.895430\n"
     ]
    },
    {
     "data": {
      "application/vnd.jupyter.widget-view+json": {
       "model_id": "99369f0e55624d5aa1f0eb3385281bed",
       "version_major": 2,
       "version_minor": 0
      },
      "text/plain": [
       "  0%|          | 0/1151 [00:00<?, ?it/s]"
      ]
     },
     "metadata": {},
     "output_type": "display_data"
    },
    {
     "data": {
      "application/vnd.jupyter.widget-view+json": {
       "model_id": "c5b40064c1c848ae82bb73bf09a339f6",
       "version_major": 2,
       "version_minor": 0
      },
      "text/plain": [
       "  0%|          | 0/384 [00:00<?, ?it/s]"
      ]
     },
     "metadata": {},
     "output_type": "display_data"
    },
    {
     "name": "stdout",
     "output_type": "stream",
     "text": [
      "... score ...\n",
      "Epoch 12, LR: 0.000125\n",
      "train loss: 0.19966613, valid loss 0.15742521, pearson score: 0.904022\n",
      "-- loss from 0.16581970 to 0.15742521, model saved\n"
     ]
    },
    {
     "data": {
      "application/vnd.jupyter.widget-view+json": {
       "model_id": "285be67ce0d8489b9f210180499a38e7",
       "version_major": 2,
       "version_minor": 0
      },
      "text/plain": [
       "  0%|          | 0/1151 [00:00<?, ?it/s]"
      ]
     },
     "metadata": {},
     "output_type": "display_data"
    },
    {
     "data": {
      "application/vnd.jupyter.widget-view+json": {
       "model_id": "3a6d48face9d4916b2a80cd827fd6b18",
       "version_major": 2,
       "version_minor": 0
      },
      "text/plain": [
       "  0%|          | 0/384 [00:00<?, ?it/s]"
      ]
     },
     "metadata": {},
     "output_type": "display_data"
    },
    {
     "name": "stdout",
     "output_type": "stream",
     "text": [
      "... score ...\n",
      "Epoch 13, LR: 0.000125\n",
      "train loss: 0.19650046, valid loss 0.15752874, pearson score: 0.904300\n"
     ]
    },
    {
     "data": {
      "application/vnd.jupyter.widget-view+json": {
       "model_id": "67f64cd18a294a8ba9b24da87c5d17cf",
       "version_major": 2,
       "version_minor": 0
      },
      "text/plain": [
       "  0%|          | 0/1151 [00:00<?, ?it/s]"
      ]
     },
     "metadata": {},
     "output_type": "display_data"
    },
    {
     "data": {
      "application/vnd.jupyter.widget-view+json": {
       "model_id": "ace9b0a0ab8f469a9b9ac7bae7a4ee02",
       "version_major": 2,
       "version_minor": 0
      },
      "text/plain": [
       "  0%|          | 0/384 [00:00<?, ?it/s]"
      ]
     },
     "metadata": {},
     "output_type": "display_data"
    },
    {
     "name": "stdout",
     "output_type": "stream",
     "text": [
      "Epoch 14, LR: 0.000125\n",
      "train loss: 0.19534952, valid loss 0.15735748, pearson score: 0.903742\n",
      "-- loss from 0.15742521 to 0.15735748, model saved\n",
      "        target      pred  best_pred\n",
      "2272 -0.916992 -1.063049  -1.063049\n",
      "2273 -0.472168 -0.291866  -0.291866\n",
      "2274 -0.147949  0.017550   0.017550\n",
      "2275 -0.372803 -1.124902  -1.124902\n",
      "2276 -0.105713 -0.443645  -0.443645\n",
      "Training Fold: 1\n",
      "\n",
      "... Start Training ...\n"
     ]
    },
    {
     "data": {
      "application/vnd.jupyter.widget-view+json": {
       "model_id": "6db2d7f91b30445889ce63b09d1bfbe1",
       "version_major": 2,
       "version_minor": 0
      },
      "text/plain": [
       "  0%|          | 0/1151 [00:00<?, ?it/s]"
      ]
     },
     "metadata": {},
     "output_type": "display_data"
    },
    {
     "data": {
      "application/vnd.jupyter.widget-view+json": {
       "model_id": "7d5f94779f1f40278dc8f1f2079a4255",
       "version_major": 2,
       "version_minor": 0
      },
      "text/plain": [
       "  0%|          | 0/384 [00:00<?, ?it/s]"
      ]
     },
     "metadata": {},
     "output_type": "display_data"
    },
    {
     "name": "stdout",
     "output_type": "stream",
     "text": [
      "... score ...\n",
      "Epoch 0, LR: 0.0005\n",
      "train loss: 0.32609544, valid loss 0.23300901, pearson score: 0.872597\n",
      "-- loss from inf to 0.23300901, model saved\n"
     ]
    },
    {
     "data": {
      "application/vnd.jupyter.widget-view+json": {
       "model_id": "0587f9297ff04c65a560ac7b212d794f",
       "version_major": 2,
       "version_minor": 0
      },
      "text/plain": [
       "  0%|          | 0/1151 [00:00<?, ?it/s]"
      ]
     },
     "metadata": {},
     "output_type": "display_data"
    },
    {
     "data": {
      "application/vnd.jupyter.widget-view+json": {
       "model_id": "b6df450bbf1e443ca45532586630eaf5",
       "version_major": 2,
       "version_minor": 0
      },
      "text/plain": [
       "  0%|          | 0/384 [00:00<?, ?it/s]"
      ]
     },
     "metadata": {},
     "output_type": "display_data"
    },
    {
     "name": "stdout",
     "output_type": "stream",
     "text": [
      "... score ...\n",
      "Epoch 1, LR: 0.0005\n",
      "train loss: 0.23827618, valid loss 0.19779460, pearson score: 0.884688\n",
      "-- loss from 0.23300901 to 0.19779460, model saved\n"
     ]
    },
    {
     "data": {
      "application/vnd.jupyter.widget-view+json": {
       "model_id": "8bf532d4265e4008b081d22a1989394c",
       "version_major": 2,
       "version_minor": 0
      },
      "text/plain": [
       "  0%|          | 0/1151 [00:00<?, ?it/s]"
      ]
     },
     "metadata": {},
     "output_type": "display_data"
    },
    {
     "data": {
      "application/vnd.jupyter.widget-view+json": {
       "model_id": "b2c6fb6487ac45f7a9101d975bf27c44",
       "version_major": 2,
       "version_minor": 0
      },
      "text/plain": [
       "  0%|          | 0/384 [00:00<?, ?it/s]"
      ]
     },
     "metadata": {},
     "output_type": "display_data"
    },
    {
     "name": "stdout",
     "output_type": "stream",
     "text": [
      "... score ...\n",
      "Epoch 2, LR: 0.0005\n",
      "train loss: 0.22765567, valid loss 0.18866255, pearson score: 0.892657\n",
      "-- loss from 0.19779460 to 0.18866255, model saved\n"
     ]
    },
    {
     "data": {
      "application/vnd.jupyter.widget-view+json": {
       "model_id": "a01b38e594fd4b3dad39ac4a69032813",
       "version_major": 2,
       "version_minor": 0
      },
      "text/plain": [
       "  0%|          | 0/1151 [00:00<?, ?it/s]"
      ]
     },
     "metadata": {},
     "output_type": "display_data"
    },
    {
     "data": {
      "application/vnd.jupyter.widget-view+json": {
       "model_id": "3c24b3eb31f14d3cacd8c4e7bea1e1f3",
       "version_major": 2,
       "version_minor": 0
      },
      "text/plain": [
       "  0%|          | 0/384 [00:00<?, ?it/s]"
      ]
     },
     "metadata": {},
     "output_type": "display_data"
    },
    {
     "name": "stdout",
     "output_type": "stream",
     "text": [
      "... score ...\n",
      "Epoch 3, LR: 0.0005\n",
      "train loss: 0.22232280, valid loss 0.18382963, pearson score: 0.892852\n",
      "-- loss from 0.18866255 to 0.18382963, model saved\n"
     ]
    },
    {
     "data": {
      "application/vnd.jupyter.widget-view+json": {
       "model_id": "cf78251ecc04422b9fe8c2d6f485cdb5",
       "version_major": 2,
       "version_minor": 0
      },
      "text/plain": [
       "  0%|          | 0/1151 [00:00<?, ?it/s]"
      ]
     },
     "metadata": {},
     "output_type": "display_data"
    },
    {
     "data": {
      "application/vnd.jupyter.widget-view+json": {
       "model_id": "8e5108283d564097a1cf1a9e5cb10e4d",
       "version_major": 2,
       "version_minor": 0
      },
      "text/plain": [
       "  0%|          | 0/384 [00:00<?, ?it/s]"
      ]
     },
     "metadata": {},
     "output_type": "display_data"
    },
    {
     "name": "stdout",
     "output_type": "stream",
     "text": [
      "Epoch 4, LR: 0.0005\n",
      "train loss: 0.21952171, valid loss 0.18585734, pearson score: 0.888651\n"
     ]
    },
    {
     "data": {
      "application/vnd.jupyter.widget-view+json": {
       "model_id": "152bc4f03eb04a43a83a8cb0730c2d1b",
       "version_major": 2,
       "version_minor": 0
      },
      "text/plain": [
       "  0%|          | 0/1151 [00:00<?, ?it/s]"
      ]
     },
     "metadata": {},
     "output_type": "display_data"
    },
    {
     "data": {
      "application/vnd.jupyter.widget-view+json": {
       "model_id": "60281b2dde654a7bad0078928028859f",
       "version_major": 2,
       "version_minor": 0
      },
      "text/plain": [
       "  0%|          | 0/384 [00:00<?, ?it/s]"
      ]
     },
     "metadata": {},
     "output_type": "display_data"
    },
    {
     "name": "stdout",
     "output_type": "stream",
     "text": [
      "Epoch 5, LR: 0.0005\n",
      "train loss: 0.21742956, valid loss 0.17705847, pearson score: 0.891105\n",
      "-- loss from 0.18382963 to 0.17705847, model saved\n"
     ]
    },
    {
     "data": {
      "application/vnd.jupyter.widget-view+json": {
       "model_id": "8d90eacd92b7423f91df67db4b282afb",
       "version_major": 2,
       "version_minor": 0
      },
      "text/plain": [
       "  0%|          | 0/1151 [00:00<?, ?it/s]"
      ]
     },
     "metadata": {},
     "output_type": "display_data"
    },
    {
     "data": {
      "application/vnd.jupyter.widget-view+json": {
       "model_id": "bb3d5e1c30854a2d92ee927feea76421",
       "version_major": 2,
       "version_minor": 0
      },
      "text/plain": [
       "  0%|          | 0/384 [00:00<?, ?it/s]"
      ]
     },
     "metadata": {},
     "output_type": "display_data"
    },
    {
     "name": "stdout",
     "output_type": "stream",
     "text": [
      "... score ...\n",
      "Epoch 6, LR: 0.0005\n",
      "train loss: 0.21542562, valid loss 0.17696086, pearson score: 0.895967\n",
      "-- loss from 0.17705847 to 0.17696086, model saved\n"
     ]
    },
    {
     "data": {
      "application/vnd.jupyter.widget-view+json": {
       "model_id": "64fcfb0d962d48d7b6535f3068da90dd",
       "version_major": 2,
       "version_minor": 0
      },
      "text/plain": [
       "  0%|          | 0/1151 [00:00<?, ?it/s]"
      ]
     },
     "metadata": {},
     "output_type": "display_data"
    },
    {
     "data": {
      "application/vnd.jupyter.widget-view+json": {
       "model_id": "71dc6879a221477e9d02ebed1f020975",
       "version_major": 2,
       "version_minor": 0
      },
      "text/plain": [
       "  0%|          | 0/384 [00:00<?, ?it/s]"
      ]
     },
     "metadata": {},
     "output_type": "display_data"
    },
    {
     "name": "stdout",
     "output_type": "stream",
     "text": [
      "Epoch 7, LR: 0.0005\n",
      "train loss: 0.21468135, valid loss 0.17343878, pearson score: 0.895947\n",
      "-- loss from 0.17696086 to 0.17343878, model saved\n"
     ]
    },
    {
     "data": {
      "application/vnd.jupyter.widget-view+json": {
       "model_id": "fbffadee5e7e432e93dcc61e44086d8e",
       "version_major": 2,
       "version_minor": 0
      },
      "text/plain": [
       "  0%|          | 0/1151 [00:00<?, ?it/s]"
      ]
     },
     "metadata": {},
     "output_type": "display_data"
    },
    {
     "data": {
      "application/vnd.jupyter.widget-view+json": {
       "model_id": "1fd888c5260f47a9bc4be1f24cffe344",
       "version_major": 2,
       "version_minor": 0
      },
      "text/plain": [
       "  0%|          | 0/384 [00:00<?, ?it/s]"
      ]
     },
     "metadata": {},
     "output_type": "display_data"
    },
    {
     "name": "stdout",
     "output_type": "stream",
     "text": [
      "Epoch 8, LR: 0.0005\n",
      "train loss: 0.21345063, valid loss 0.17428467, pearson score: 0.894901\n"
     ]
    },
    {
     "data": {
      "application/vnd.jupyter.widget-view+json": {
       "model_id": "cb08afc6e06542f2a2049af0c3f50dc8",
       "version_major": 2,
       "version_minor": 0
      },
      "text/plain": [
       "  0%|          | 0/1151 [00:00<?, ?it/s]"
      ]
     },
     "metadata": {},
     "output_type": "display_data"
    },
    {
     "data": {
      "application/vnd.jupyter.widget-view+json": {
       "model_id": "1bd56903aec240458eebc69bd5718f45",
       "version_major": 2,
       "version_minor": 0
      },
      "text/plain": [
       "  0%|          | 0/384 [00:00<?, ?it/s]"
      ]
     },
     "metadata": {},
     "output_type": "display_data"
    },
    {
     "name": "stdout",
     "output_type": "stream",
     "text": [
      "Epoch 9, LR: 0.0005\n",
      "train loss: 0.21284706, valid loss 0.17240706, pearson score: 0.895804\n",
      "-- loss from 0.17343878 to 0.17240706, model saved\n"
     ]
    },
    {
     "data": {
      "application/vnd.jupyter.widget-view+json": {
       "model_id": "b1f3c10074924c7ca57f1146c11e2844",
       "version_major": 2,
       "version_minor": 0
      },
      "text/plain": [
       "  0%|          | 0/1151 [00:00<?, ?it/s]"
      ]
     },
     "metadata": {},
     "output_type": "display_data"
    },
    {
     "data": {
      "application/vnd.jupyter.widget-view+json": {
       "model_id": "85e6d08d44454630a51705dbdf4aa723",
       "version_major": 2,
       "version_minor": 0
      },
      "text/plain": [
       "  0%|          | 0/384 [00:00<?, ?it/s]"
      ]
     },
     "metadata": {},
     "output_type": "display_data"
    },
    {
     "name": "stdout",
     "output_type": "stream",
     "text": [
      "Epoch 10, LR: 0.0005\n",
      "train loss: 0.21147813, valid loss 0.19513087, pearson score: 0.892821\n"
     ]
    },
    {
     "data": {
      "application/vnd.jupyter.widget-view+json": {
       "model_id": "498a774cef9745cf990793a1478674e8",
       "version_major": 2,
       "version_minor": 0
      },
      "text/plain": [
       "  0%|          | 0/1151 [00:00<?, ?it/s]"
      ]
     },
     "metadata": {},
     "output_type": "display_data"
    },
    {
     "data": {
      "application/vnd.jupyter.widget-view+json": {
       "model_id": "3aeb2c352f5c4d84b74010c3bc36cb4f",
       "version_major": 2,
       "version_minor": 0
      },
      "text/plain": [
       "  0%|          | 0/384 [00:00<?, ?it/s]"
      ]
     },
     "metadata": {},
     "output_type": "display_data"
    },
    {
     "name": "stdout",
     "output_type": "stream",
     "text": [
      "Epoch 11, LR: 0.0005\n",
      "train loss: 0.21107254, valid loss 0.17374947, pearson score: 0.895932\n"
     ]
    },
    {
     "data": {
      "application/vnd.jupyter.widget-view+json": {
       "model_id": "9520a340c30943cf86dfc4378ce49d0f",
       "version_major": 2,
       "version_minor": 0
      },
      "text/plain": [
       "  0%|          | 0/1151 [00:00<?, ?it/s]"
      ]
     },
     "metadata": {},
     "output_type": "display_data"
    },
    {
     "data": {
      "application/vnd.jupyter.widget-view+json": {
       "model_id": "8240f4cb53894603b1ac5e26c84b1ad0",
       "version_major": 2,
       "version_minor": 0
      },
      "text/plain": [
       "  0%|          | 0/384 [00:00<?, ?it/s]"
      ]
     },
     "metadata": {},
     "output_type": "display_data"
    },
    {
     "name": "stdout",
     "output_type": "stream",
     "text": [
      "Epoch 12, LR: 0.0005\n",
      "train loss: 0.21031129, valid loss 0.17993925, pearson score: 0.893857\n"
     ]
    },
    {
     "data": {
      "application/vnd.jupyter.widget-view+json": {
       "model_id": "6fb6fb4392274300ac9d4cb3b502aa07",
       "version_major": 2,
       "version_minor": 0
      },
      "text/plain": [
       "  0%|          | 0/1151 [00:00<?, ?it/s]"
      ]
     },
     "metadata": {},
     "output_type": "display_data"
    },
    {
     "data": {
      "application/vnd.jupyter.widget-view+json": {
       "model_id": "6aeabcd6bcb646f09db2761b0a781b4a",
       "version_major": 2,
       "version_minor": 0
      },
      "text/plain": [
       "  0%|          | 0/384 [00:00<?, ?it/s]"
      ]
     },
     "metadata": {},
     "output_type": "display_data"
    },
    {
     "name": "stdout",
     "output_type": "stream",
     "text": [
      "Epoch 13, LR: 0.000125\n",
      "train loss: 0.20934953, valid loss 0.18956832, pearson score: 0.889516\n"
     ]
    },
    {
     "data": {
      "application/vnd.jupyter.widget-view+json": {
       "model_id": "05408746769a4fe383d73ac0d68cdfe7",
       "version_major": 2,
       "version_minor": 0
      },
      "text/plain": [
       "  0%|          | 0/1151 [00:00<?, ?it/s]"
      ]
     },
     "metadata": {},
     "output_type": "display_data"
    },
    {
     "data": {
      "application/vnd.jupyter.widget-view+json": {
       "model_id": "dc085badd93a4863889dc0584ed21498",
       "version_major": 2,
       "version_minor": 0
      },
      "text/plain": [
       "  0%|          | 0/384 [00:00<?, ?it/s]"
      ]
     },
     "metadata": {},
     "output_type": "display_data"
    },
    {
     "name": "stdout",
     "output_type": "stream",
     "text": [
      "... score ...\n",
      "Epoch 14, LR: 0.000125\n",
      "train loss: 0.19861882, valid loss 0.16132390, pearson score: 0.903794\n",
      "-- loss from 0.17240706 to 0.16132390, model saved\n",
      "         target      pred  best_pred\n",
      "22734 -0.661133 -0.720631  -0.720631\n",
      "22735 -0.659668 -0.707262  -0.707262\n",
      "22736  1.889648  1.414647   1.414647\n",
      "22737 -0.303711 -0.460086  -0.460086\n",
      "22738 -0.548828 -0.432749  -0.432749\n",
      "Training Fold: 2\n",
      "\n",
      "... Start Training ...\n"
     ]
    },
    {
     "data": {
      "application/vnd.jupyter.widget-view+json": {
       "model_id": "ce4c818e083e4d468f3af69aae0202ec",
       "version_major": 2,
       "version_minor": 0
      },
      "text/plain": [
       "  0%|          | 0/1151 [00:00<?, ?it/s]"
      ]
     },
     "metadata": {},
     "output_type": "display_data"
    },
    {
     "data": {
      "application/vnd.jupyter.widget-view+json": {
       "model_id": "eeda2e67046f42258ba932d90ef40365",
       "version_major": 2,
       "version_minor": 0
      },
      "text/plain": [
       "  0%|          | 0/384 [00:00<?, ?it/s]"
      ]
     },
     "metadata": {},
     "output_type": "display_data"
    },
    {
     "name": "stdout",
     "output_type": "stream",
     "text": [
      "... score ...\n",
      "Epoch 0, LR: 0.0005\n",
      "train loss: 0.31413209, valid loss 0.21221724, pearson score: 0.874094\n",
      "-- loss from inf to 0.21221724, model saved\n"
     ]
    },
    {
     "data": {
      "application/vnd.jupyter.widget-view+json": {
       "model_id": "58d786d56f2d4b77994a7c6309c530b0",
       "version_major": 2,
       "version_minor": 0
      },
      "text/plain": [
       "  0%|          | 0/1151 [00:00<?, ?it/s]"
      ]
     },
     "metadata": {},
     "output_type": "display_data"
    },
    {
     "data": {
      "application/vnd.jupyter.widget-view+json": {
       "model_id": "24290f41cfa24528a05e7d09a08e8b66",
       "version_major": 2,
       "version_minor": 0
      },
      "text/plain": [
       "  0%|          | 0/384 [00:00<?, ?it/s]"
      ]
     },
     "metadata": {},
     "output_type": "display_data"
    },
    {
     "name": "stdout",
     "output_type": "stream",
     "text": [
      "... score ...\n",
      "Epoch 1, LR: 0.0005\n",
      "train loss: 0.23783892, valid loss 0.19684964, pearson score: 0.883283\n",
      "-- loss from 0.21221724 to 0.19684964, model saved\n"
     ]
    },
    {
     "data": {
      "application/vnd.jupyter.widget-view+json": {
       "model_id": "83434e0ecd4d4fdb8695acbbc5bc3a5c",
       "version_major": 2,
       "version_minor": 0
      },
      "text/plain": [
       "  0%|          | 0/1151 [00:00<?, ?it/s]"
      ]
     },
     "metadata": {},
     "output_type": "display_data"
    },
    {
     "data": {
      "application/vnd.jupyter.widget-view+json": {
       "model_id": "ff724204109f463fb47a44f37733641d",
       "version_major": 2,
       "version_minor": 0
      },
      "text/plain": [
       "  0%|          | 0/384 [00:00<?, ?it/s]"
      ]
     },
     "metadata": {},
     "output_type": "display_data"
    },
    {
     "name": "stdout",
     "output_type": "stream",
     "text": [
      "... score ...\n",
      "Epoch 2, LR: 0.0005\n",
      "train loss: 0.22799406, valid loss 0.18804574, pearson score: 0.884098\n",
      "-- loss from 0.19684964 to 0.18804574, model saved\n"
     ]
    },
    {
     "data": {
      "application/vnd.jupyter.widget-view+json": {
       "model_id": "1ec7baa372244c9a969383405c95eada",
       "version_major": 2,
       "version_minor": 0
      },
      "text/plain": [
       "  0%|          | 0/1151 [00:00<?, ?it/s]"
      ]
     },
     "metadata": {},
     "output_type": "display_data"
    },
    {
     "data": {
      "application/vnd.jupyter.widget-view+json": {
       "model_id": "7f6ed36638a644449106f75392b5b88c",
       "version_major": 2,
       "version_minor": 0
      },
      "text/plain": [
       "  0%|          | 0/384 [00:00<?, ?it/s]"
      ]
     },
     "metadata": {},
     "output_type": "display_data"
    },
    {
     "name": "stdout",
     "output_type": "stream",
     "text": [
      "... score ...\n",
      "Epoch 3, LR: 0.0005\n",
      "train loss: 0.22327022, valid loss 0.18135725, pearson score: 0.889727\n",
      "-- loss from 0.18804574 to 0.18135725, model saved\n"
     ]
    },
    {
     "data": {
      "application/vnd.jupyter.widget-view+json": {
       "model_id": "0e1a0e747c1b4c9d86f6961e07b9d257",
       "version_major": 2,
       "version_minor": 0
      },
      "text/plain": [
       "  0%|          | 0/1151 [00:00<?, ?it/s]"
      ]
     },
     "metadata": {},
     "output_type": "display_data"
    },
    {
     "data": {
      "application/vnd.jupyter.widget-view+json": {
       "model_id": "6b6b9bf383c84bb9b9faaadaae36b022",
       "version_major": 2,
       "version_minor": 0
      },
      "text/plain": [
       "  0%|          | 0/384 [00:00<?, ?it/s]"
      ]
     },
     "metadata": {},
     "output_type": "display_data"
    },
    {
     "name": "stdout",
     "output_type": "stream",
     "text": [
      "Epoch 4, LR: 0.0005\n",
      "train loss: 0.21909574, valid loss 0.18508110, pearson score: 0.889540\n"
     ]
    },
    {
     "data": {
      "application/vnd.jupyter.widget-view+json": {
       "model_id": "bbe6f6f657ad48bfb601d007d31359da",
       "version_major": 2,
       "version_minor": 0
      },
      "text/plain": [
       "  0%|          | 0/1151 [00:00<?, ?it/s]"
      ]
     },
     "metadata": {},
     "output_type": "display_data"
    },
    {
     "data": {
      "application/vnd.jupyter.widget-view+json": {
       "model_id": "256c17bd11fa432ca063d36e08134a85",
       "version_major": 2,
       "version_minor": 0
      },
      "text/plain": [
       "  0%|          | 0/384 [00:00<?, ?it/s]"
      ]
     },
     "metadata": {},
     "output_type": "display_data"
    },
    {
     "name": "stdout",
     "output_type": "stream",
     "text": [
      "Epoch 5, LR: 0.0005\n",
      "train loss: 0.21748054, valid loss 0.18610919, pearson score: 0.885014\n"
     ]
    },
    {
     "data": {
      "application/vnd.jupyter.widget-view+json": {
       "model_id": "b792d980e75a4247a753c9f5020fca47",
       "version_major": 2,
       "version_minor": 0
      },
      "text/plain": [
       "  0%|          | 0/1151 [00:00<?, ?it/s]"
      ]
     },
     "metadata": {},
     "output_type": "display_data"
    },
    {
     "data": {
      "application/vnd.jupyter.widget-view+json": {
       "model_id": "1eb4e79898574e2abda3e4e1df551646",
       "version_major": 2,
       "version_minor": 0
      },
      "text/plain": [
       "  0%|          | 0/384 [00:00<?, ?it/s]"
      ]
     },
     "metadata": {},
     "output_type": "display_data"
    },
    {
     "name": "stdout",
     "output_type": "stream",
     "text": [
      "... score ...\n",
      "Epoch 6, LR: 0.0005\n",
      "train loss: 0.21569821, valid loss 0.18293298, pearson score: 0.890529\n"
     ]
    },
    {
     "data": {
      "application/vnd.jupyter.widget-view+json": {
       "model_id": "70032e82740e4a28b00614612a627e8c",
       "version_major": 2,
       "version_minor": 0
      },
      "text/plain": [
       "  0%|          | 0/1151 [00:00<?, ?it/s]"
      ]
     },
     "metadata": {},
     "output_type": "display_data"
    },
    {
     "data": {
      "application/vnd.jupyter.widget-view+json": {
       "model_id": "0edd0106b6654ded9c59cb8d193ede24",
       "version_major": 2,
       "version_minor": 0
      },
      "text/plain": [
       "  0%|          | 0/384 [00:00<?, ?it/s]"
      ]
     },
     "metadata": {},
     "output_type": "display_data"
    },
    {
     "name": "stdout",
     "output_type": "stream",
     "text": [
      "... score ...\n",
      "Epoch 7, LR: 0.0005\n",
      "train loss: 0.21382074, valid loss 0.17768625, pearson score: 0.891978\n",
      "-- loss from 0.18135725 to 0.17768625, model saved\n"
     ]
    },
    {
     "data": {
      "application/vnd.jupyter.widget-view+json": {
       "model_id": "953facd5a9dc49d38ad7b7a5cfd6b332",
       "version_major": 2,
       "version_minor": 0
      },
      "text/plain": [
       "  0%|          | 0/1151 [00:00<?, ?it/s]"
      ]
     },
     "metadata": {},
     "output_type": "display_data"
    },
    {
     "data": {
      "application/vnd.jupyter.widget-view+json": {
       "model_id": "7d7131b9bb0f432e95e2011e4e9f8b43",
       "version_major": 2,
       "version_minor": 0
      },
      "text/plain": [
       "  0%|          | 0/384 [00:00<?, ?it/s]"
      ]
     },
     "metadata": {},
     "output_type": "display_data"
    },
    {
     "name": "stdout",
     "output_type": "stream",
     "text": [
      "Epoch 8, LR: 0.0005\n",
      "train loss: 0.21277639, valid loss 0.17716255, pearson score: 0.891232\n",
      "-- loss from 0.17768625 to 0.17716255, model saved\n"
     ]
    },
    {
     "data": {
      "application/vnd.jupyter.widget-view+json": {
       "model_id": "fd084ecc844a44d99afb768d7b298589",
       "version_major": 2,
       "version_minor": 0
      },
      "text/plain": [
       "  0%|          | 0/1151 [00:00<?, ?it/s]"
      ]
     },
     "metadata": {},
     "output_type": "display_data"
    },
    {
     "data": {
      "application/vnd.jupyter.widget-view+json": {
       "model_id": "9de13a017d8e4f8196cdbf109147328d",
       "version_major": 2,
       "version_minor": 0
      },
      "text/plain": [
       "  0%|          | 0/384 [00:00<?, ?it/s]"
      ]
     },
     "metadata": {},
     "output_type": "display_data"
    },
    {
     "name": "stdout",
     "output_type": "stream",
     "text": [
      "... score ...\n",
      "Epoch 9, LR: 0.0005\n",
      "train loss: 0.21183783, valid loss 0.17343764, pearson score: 0.895075\n",
      "-- loss from 0.17716255 to 0.17343764, model saved\n"
     ]
    },
    {
     "data": {
      "application/vnd.jupyter.widget-view+json": {
       "model_id": "73974d1ed0634a0b9443dfed79d4002b",
       "version_major": 2,
       "version_minor": 0
      },
      "text/plain": [
       "  0%|          | 0/1151 [00:00<?, ?it/s]"
      ]
     },
     "metadata": {},
     "output_type": "display_data"
    },
    {
     "data": {
      "application/vnd.jupyter.widget-view+json": {
       "model_id": "de86d758a0794820931fd04f1bf2b370",
       "version_major": 2,
       "version_minor": 0
      },
      "text/plain": [
       "  0%|          | 0/384 [00:00<?, ?it/s]"
      ]
     },
     "metadata": {},
     "output_type": "display_data"
    },
    {
     "name": "stdout",
     "output_type": "stream",
     "text": [
      "Epoch 10, LR: 0.0005\n",
      "train loss: 0.21126209, valid loss 0.17858136, pearson score: 0.890268\n"
     ]
    },
    {
     "data": {
      "application/vnd.jupyter.widget-view+json": {
       "model_id": "7ffaf634e8884f8fa894847f64fc5251",
       "version_major": 2,
       "version_minor": 0
      },
      "text/plain": [
       "  0%|          | 0/1151 [00:00<?, ?it/s]"
      ]
     },
     "metadata": {},
     "output_type": "display_data"
    },
    {
     "data": {
      "application/vnd.jupyter.widget-view+json": {
       "model_id": "1b47e701b04d45488951adc879c34dd3",
       "version_major": 2,
       "version_minor": 0
      },
      "text/plain": [
       "  0%|          | 0/384 [00:00<?, ?it/s]"
      ]
     },
     "metadata": {},
     "output_type": "display_data"
    },
    {
     "name": "stdout",
     "output_type": "stream",
     "text": [
      "Epoch 11, LR: 0.0005\n",
      "train loss: 0.21044006, valid loss 0.17499358, pearson score: 0.894274\n"
     ]
    },
    {
     "data": {
      "application/vnd.jupyter.widget-view+json": {
       "model_id": "cc14c72134914795b82620576b4ee275",
       "version_major": 2,
       "version_minor": 0
      },
      "text/plain": [
       "  0%|          | 0/1151 [00:00<?, ?it/s]"
      ]
     },
     "metadata": {},
     "output_type": "display_data"
    },
    {
     "data": {
      "application/vnd.jupyter.widget-view+json": {
       "model_id": "e1ae16ddec5942cdacc43409ac7445fb",
       "version_major": 2,
       "version_minor": 0
      },
      "text/plain": [
       "  0%|          | 0/384 [00:00<?, ?it/s]"
      ]
     },
     "metadata": {},
     "output_type": "display_data"
    },
    {
     "name": "stdout",
     "output_type": "stream",
     "text": [
      "Epoch 12, LR: 0.0005\n",
      "train loss: 0.21036074, valid loss 0.18079281, pearson score: 0.892665\n"
     ]
    },
    {
     "data": {
      "application/vnd.jupyter.widget-view+json": {
       "model_id": "332d9b61a4c346408041b4ddff7b1185",
       "version_major": 2,
       "version_minor": 0
      },
      "text/plain": [
       "  0%|          | 0/1151 [00:00<?, ?it/s]"
      ]
     },
     "metadata": {},
     "output_type": "display_data"
    },
    {
     "data": {
      "application/vnd.jupyter.widget-view+json": {
       "model_id": "84b36d816e1c4897a877aa54415c4e7e",
       "version_major": 2,
       "version_minor": 0
      },
      "text/plain": [
       "  0%|          | 0/384 [00:00<?, ?it/s]"
      ]
     },
     "metadata": {},
     "output_type": "display_data"
    },
    {
     "name": "stdout",
     "output_type": "stream",
     "text": [
      "Epoch 13, LR: 0.000125\n",
      "train loss: 0.20941510, valid loss 0.17469259, pearson score: 0.893098\n"
     ]
    },
    {
     "data": {
      "application/vnd.jupyter.widget-view+json": {
       "model_id": "2a00d47473fb41bfb6086f134d06ce7e",
       "version_major": 2,
       "version_minor": 0
      },
      "text/plain": [
       "  0%|          | 0/1151 [00:00<?, ?it/s]"
      ]
     },
     "metadata": {},
     "output_type": "display_data"
    },
    {
     "data": {
      "application/vnd.jupyter.widget-view+json": {
       "model_id": "7b84e52f1d574e74af1cb67e709ca374",
       "version_major": 2,
       "version_minor": 0
      },
      "text/plain": [
       "  0%|          | 0/384 [00:00<?, ?it/s]"
      ]
     },
     "metadata": {},
     "output_type": "display_data"
    },
    {
     "name": "stdout",
     "output_type": "stream",
     "text": [
      "... score ...\n",
      "Epoch 14, LR: 0.000125\n",
      "train loss: 0.19845334, valid loss 0.16804005, pearson score: 0.900942\n",
      "-- loss from 0.17343764 to 0.16804005, model saved\n",
      "         target      pred  best_pred\n",
      "18211 -1.381836 -1.257978  -1.257978\n",
      "18212 -0.644531 -0.743505  -0.743505\n",
      "18213 -0.864746 -0.687211  -0.687211\n",
      "18214  0.318359  0.186217   0.186217\n",
      "18215  0.019196  0.001116   0.001116\n",
      "Training Fold: 3\n",
      "\n",
      "... Start Training ...\n"
     ]
    },
    {
     "data": {
      "application/vnd.jupyter.widget-view+json": {
       "model_id": "e91adf8fa6e54fecbd0e9f99396e1565",
       "version_major": 2,
       "version_minor": 0
      },
      "text/plain": [
       "  0%|          | 0/1151 [00:00<?, ?it/s]"
      ]
     },
     "metadata": {},
     "output_type": "display_data"
    },
    {
     "data": {
      "application/vnd.jupyter.widget-view+json": {
       "model_id": "031dbe2f0fdc4e6e842e7993acf59320",
       "version_major": 2,
       "version_minor": 0
      },
      "text/plain": [
       "  0%|          | 0/384 [00:00<?, ?it/s]"
      ]
     },
     "metadata": {},
     "output_type": "display_data"
    },
    {
     "name": "stdout",
     "output_type": "stream",
     "text": [
      "... score ...\n",
      "Epoch 0, LR: 0.0005\n",
      "train loss: 0.32795634, valid loss 0.21897918, pearson score: 0.875668\n",
      "-- loss from inf to 0.21897918, model saved\n"
     ]
    },
    {
     "data": {
      "application/vnd.jupyter.widget-view+json": {
       "model_id": "57d799a5e583466f98d0b010c05d8848",
       "version_major": 2,
       "version_minor": 0
      },
      "text/plain": [
       "  0%|          | 0/1151 [00:00<?, ?it/s]"
      ]
     },
     "metadata": {},
     "output_type": "display_data"
    },
    {
     "data": {
      "application/vnd.jupyter.widget-view+json": {
       "model_id": "516829f19994430491c285c44d59520d",
       "version_major": 2,
       "version_minor": 0
      },
      "text/plain": [
       "  0%|          | 0/384 [00:00<?, ?it/s]"
      ]
     },
     "metadata": {},
     "output_type": "display_data"
    },
    {
     "name": "stdout",
     "output_type": "stream",
     "text": [
      "... score ...\n",
      "Epoch 1, LR: 0.0005\n",
      "train loss: 0.24023919, valid loss 0.19851246, pearson score: 0.882999\n",
      "-- loss from 0.21897918 to 0.19851246, model saved\n"
     ]
    },
    {
     "data": {
      "application/vnd.jupyter.widget-view+json": {
       "model_id": "bcbfe3b67ccb4ee9be2058b51d9f1f97",
       "version_major": 2,
       "version_minor": 0
      },
      "text/plain": [
       "  0%|          | 0/1151 [00:00<?, ?it/s]"
      ]
     },
     "metadata": {},
     "output_type": "display_data"
    },
    {
     "data": {
      "application/vnd.jupyter.widget-view+json": {
       "model_id": "cbd828ebda3347ea836e67fbbb3b1b75",
       "version_major": 2,
       "version_minor": 0
      },
      "text/plain": [
       "  0%|          | 0/384 [00:00<?, ?it/s]"
      ]
     },
     "metadata": {},
     "output_type": "display_data"
    },
    {
     "name": "stdout",
     "output_type": "stream",
     "text": [
      "... score ...\n",
      "Epoch 2, LR: 0.0005\n",
      "train loss: 0.22857682, valid loss 0.18618821, pearson score: 0.886803\n",
      "-- loss from 0.19851246 to 0.18618821, model saved\n"
     ]
    },
    {
     "data": {
      "application/vnd.jupyter.widget-view+json": {
       "model_id": "4abda96547944f42ac0b9eb9cc38c14d",
       "version_major": 2,
       "version_minor": 0
      },
      "text/plain": [
       "  0%|          | 0/1151 [00:00<?, ?it/s]"
      ]
     },
     "metadata": {},
     "output_type": "display_data"
    },
    {
     "data": {
      "application/vnd.jupyter.widget-view+json": {
       "model_id": "e309507c822646ba8d42cf7d6bf00f96",
       "version_major": 2,
       "version_minor": 0
      },
      "text/plain": [
       "  0%|          | 0/384 [00:00<?, ?it/s]"
      ]
     },
     "metadata": {},
     "output_type": "display_data"
    },
    {
     "name": "stdout",
     "output_type": "stream",
     "text": [
      "... score ...\n",
      "Epoch 3, LR: 0.0005\n",
      "train loss: 0.22395095, valid loss 0.18441831, pearson score: 0.890708\n",
      "-- loss from 0.18618821 to 0.18441831, model saved\n"
     ]
    },
    {
     "data": {
      "application/vnd.jupyter.widget-view+json": {
       "model_id": "af682095826d4156ad4012672611ed39",
       "version_major": 2,
       "version_minor": 0
      },
      "text/plain": [
       "  0%|          | 0/1151 [00:00<?, ?it/s]"
      ]
     },
     "metadata": {},
     "output_type": "display_data"
    },
    {
     "data": {
      "application/vnd.jupyter.widget-view+json": {
       "model_id": "ac90e2234af141318bba1acb38ae6a98",
       "version_major": 2,
       "version_minor": 0
      },
      "text/plain": [
       "  0%|          | 0/384 [00:00<?, ?it/s]"
      ]
     },
     "metadata": {},
     "output_type": "display_data"
    },
    {
     "name": "stdout",
     "output_type": "stream",
     "text": [
      "Epoch 4, LR: 0.0005\n",
      "train loss: 0.22099055, valid loss 0.17767731, pearson score: 0.888822\n",
      "-- loss from 0.18441831 to 0.17767731, model saved\n"
     ]
    },
    {
     "data": {
      "application/vnd.jupyter.widget-view+json": {
       "model_id": "21a52c3da7f24d2c8da0c5f1df20ca51",
       "version_major": 2,
       "version_minor": 0
      },
      "text/plain": [
       "  0%|          | 0/1151 [00:00<?, ?it/s]"
      ]
     },
     "metadata": {},
     "output_type": "display_data"
    },
    {
     "data": {
      "application/vnd.jupyter.widget-view+json": {
       "model_id": "fb01adbd33954dfbba180a97930d9da2",
       "version_major": 2,
       "version_minor": 0
      },
      "text/plain": [
       "  0%|          | 0/384 [00:00<?, ?it/s]"
      ]
     },
     "metadata": {},
     "output_type": "display_data"
    },
    {
     "name": "stdout",
     "output_type": "stream",
     "text": [
      "... score ...\n",
      "Epoch 5, LR: 0.0005\n",
      "train loss: 0.21781250, valid loss 0.17437187, pearson score: 0.892294\n",
      "-- loss from 0.17767731 to 0.17437187, model saved\n"
     ]
    },
    {
     "data": {
      "application/vnd.jupyter.widget-view+json": {
       "model_id": "d8b05e1fb8c8486cbb5806ae69eadeda",
       "version_major": 2,
       "version_minor": 0
      },
      "text/plain": [
       "  0%|          | 0/1151 [00:00<?, ?it/s]"
      ]
     },
     "metadata": {},
     "output_type": "display_data"
    },
    {
     "data": {
      "application/vnd.jupyter.widget-view+json": {
       "model_id": "263d307420c14e83851391f9d20bbe2f",
       "version_major": 2,
       "version_minor": 0
      },
      "text/plain": [
       "  0%|          | 0/384 [00:00<?, ?it/s]"
      ]
     },
     "metadata": {},
     "output_type": "display_data"
    },
    {
     "name": "stdout",
     "output_type": "stream",
     "text": [
      "... score ...\n",
      "Epoch 6, LR: 0.0005\n",
      "train loss: 0.21632709, valid loss 0.17396457, pearson score: 0.892859\n",
      "-- loss from 0.17437187 to 0.17396457, model saved\n"
     ]
    },
    {
     "data": {
      "application/vnd.jupyter.widget-view+json": {
       "model_id": "d853faff2eb74651a7ff6e1e85bffd91",
       "version_major": 2,
       "version_minor": 0
      },
      "text/plain": [
       "  0%|          | 0/1151 [00:00<?, ?it/s]"
      ]
     },
     "metadata": {},
     "output_type": "display_data"
    },
    {
     "data": {
      "application/vnd.jupyter.widget-view+json": {
       "model_id": "fcd5015a0afd4c69b0432855570135d4",
       "version_major": 2,
       "version_minor": 0
      },
      "text/plain": [
       "  0%|          | 0/384 [00:00<?, ?it/s]"
      ]
     },
     "metadata": {},
     "output_type": "display_data"
    },
    {
     "name": "stdout",
     "output_type": "stream",
     "text": [
      "... score ...\n",
      "Epoch 7, LR: 0.0005\n",
      "train loss: 0.21448275, valid loss 0.17101244, pearson score: 0.895661\n",
      "-- loss from 0.17396457 to 0.17101244, model saved\n"
     ]
    },
    {
     "data": {
      "application/vnd.jupyter.widget-view+json": {
       "model_id": "5b6d23023154428994531023dce4609d",
       "version_major": 2,
       "version_minor": 0
      },
      "text/plain": [
       "  0%|          | 0/1151 [00:00<?, ?it/s]"
      ]
     },
     "metadata": {},
     "output_type": "display_data"
    },
    {
     "data": {
      "application/vnd.jupyter.widget-view+json": {
       "model_id": "534239cf4dce4d94a2fe232912ca5838",
       "version_major": 2,
       "version_minor": 0
      },
      "text/plain": [
       "  0%|          | 0/384 [00:00<?, ?it/s]"
      ]
     },
     "metadata": {},
     "output_type": "display_data"
    },
    {
     "name": "stdout",
     "output_type": "stream",
     "text": [
      "Epoch 8, LR: 0.0005\n",
      "train loss: 0.21405408, valid loss 0.17459220, pearson score: 0.894091\n"
     ]
    },
    {
     "data": {
      "application/vnd.jupyter.widget-view+json": {
       "model_id": "0ae83411dcab47fea0056897ce260863",
       "version_major": 2,
       "version_minor": 0
      },
      "text/plain": [
       "  0%|          | 0/1151 [00:00<?, ?it/s]"
      ]
     },
     "metadata": {},
     "output_type": "display_data"
    },
    {
     "data": {
      "application/vnd.jupyter.widget-view+json": {
       "model_id": "21fd5e5ea3a6465791b111586e321bc6",
       "version_major": 2,
       "version_minor": 0
      },
      "text/plain": [
       "  0%|          | 0/384 [00:00<?, ?it/s]"
      ]
     },
     "metadata": {},
     "output_type": "display_data"
    },
    {
     "name": "stdout",
     "output_type": "stream",
     "text": [
      "Epoch 9, LR: 0.0005\n",
      "train loss: 0.21236263, valid loss 0.18306138, pearson score: 0.893309\n"
     ]
    },
    {
     "data": {
      "application/vnd.jupyter.widget-view+json": {
       "model_id": "2b751145bd9142338261699685bb4635",
       "version_major": 2,
       "version_minor": 0
      },
      "text/plain": [
       "  0%|          | 0/1151 [00:00<?, ?it/s]"
      ]
     },
     "metadata": {},
     "output_type": "display_data"
    },
    {
     "data": {
      "application/vnd.jupyter.widget-view+json": {
       "model_id": "4fd0fbb7e5e44b89962af5ffe6af90d9",
       "version_major": 2,
       "version_minor": 0
      },
      "text/plain": [
       "  0%|          | 0/384 [00:00<?, ?it/s]"
      ]
     },
     "metadata": {},
     "output_type": "display_data"
    },
    {
     "name": "stdout",
     "output_type": "stream",
     "text": [
      "Epoch 10, LR: 0.0005\n",
      "train loss: 0.21093879, valid loss 0.18205640, pearson score: 0.891706\n"
     ]
    },
    {
     "data": {
      "application/vnd.jupyter.widget-view+json": {
       "model_id": "bb3b036d4b734aa59791ae7303bb5d2f",
       "version_major": 2,
       "version_minor": 0
      },
      "text/plain": [
       "  0%|          | 0/1151 [00:00<?, ?it/s]"
      ]
     },
     "metadata": {},
     "output_type": "display_data"
    },
    {
     "data": {
      "application/vnd.jupyter.widget-view+json": {
       "model_id": "f87b7e024c044104b5f523e716a12992",
       "version_major": 2,
       "version_minor": 0
      },
      "text/plain": [
       "  0%|          | 0/384 [00:00<?, ?it/s]"
      ]
     },
     "metadata": {},
     "output_type": "display_data"
    },
    {
     "name": "stdout",
     "output_type": "stream",
     "text": [
      "Epoch 11, LR: 0.000125\n",
      "train loss: 0.21030306, valid loss 0.17331391, pearson score: 0.891768\n"
     ]
    },
    {
     "data": {
      "application/vnd.jupyter.widget-view+json": {
       "model_id": "51dff20401674a0e9b0ee1f5f4884e6e",
       "version_major": 2,
       "version_minor": 0
      },
      "text/plain": [
       "  0%|          | 0/1151 [00:00<?, ?it/s]"
      ]
     },
     "metadata": {},
     "output_type": "display_data"
    },
    {
     "data": {
      "application/vnd.jupyter.widget-view+json": {
       "model_id": "b11d82ae8b0941388456e0b248c9d058",
       "version_major": 2,
       "version_minor": 0
      },
      "text/plain": [
       "  0%|          | 0/384 [00:00<?, ?it/s]"
      ]
     },
     "metadata": {},
     "output_type": "display_data"
    },
    {
     "name": "stdout",
     "output_type": "stream",
     "text": [
      "... score ...\n",
      "Epoch 12, LR: 0.000125\n",
      "train loss: 0.19890889, valid loss 0.16292669, pearson score: 0.901685\n",
      "-- loss from 0.17101244 to 0.16292669, model saved\n"
     ]
    },
    {
     "data": {
      "application/vnd.jupyter.widget-view+json": {
       "model_id": "19a1835de2ef4ff3862c8174867172ba",
       "version_major": 2,
       "version_minor": 0
      },
      "text/plain": [
       "  0%|          | 0/1151 [00:00<?, ?it/s]"
      ]
     },
     "metadata": {},
     "output_type": "display_data"
    },
    {
     "data": {
      "application/vnd.jupyter.widget-view+json": {
       "model_id": "3f883874acd2450c8d9562b47ea66b73",
       "version_major": 2,
       "version_minor": 0
      },
      "text/plain": [
       "  0%|          | 0/384 [00:00<?, ?it/s]"
      ]
     },
     "metadata": {},
     "output_type": "display_data"
    },
    {
     "name": "stdout",
     "output_type": "stream",
     "text": [
      "... score ...\n",
      "Epoch 13, LR: 0.000125\n",
      "train loss: 0.19600319, valid loss 0.16153276, pearson score: 0.901985\n",
      "-- loss from 0.16292669 to 0.16153276, model saved\n"
     ]
    },
    {
     "data": {
      "application/vnd.jupyter.widget-view+json": {
       "model_id": "7345c4dcb8a949e08bd630a0cdbebb18",
       "version_major": 2,
       "version_minor": 0
      },
      "text/plain": [
       "  0%|          | 0/1151 [00:00<?, ?it/s]"
      ]
     },
     "metadata": {},
     "output_type": "display_data"
    },
    {
     "data": {
      "application/vnd.jupyter.widget-view+json": {
       "model_id": "1ec5ae4b085043529b535dbb35d9d227",
       "version_major": 2,
       "version_minor": 0
      },
      "text/plain": [
       "  0%|          | 0/384 [00:00<?, ?it/s]"
      ]
     },
     "metadata": {},
     "output_type": "display_data"
    },
    {
     "name": "stdout",
     "output_type": "stream",
     "text": [
      "... score ...\n",
      "Epoch 14, LR: 0.000125\n",
      "train loss: 0.19563610, valid loss 0.15990516, pearson score: 0.902657\n",
      "-- loss from 0.16153276 to 0.15990516, model saved\n",
      "     target      pred  best_pred\n",
      "0 -0.300781 -0.056666  -0.056666\n",
      "1 -0.231079 -0.144709  -0.144709\n",
      "2  0.568848 -0.604352  -0.604352\n",
      "3 -1.064453 -0.654827  -0.654827\n",
      "4 -0.531738 -0.152915  -0.152915\n"
     ]
    }
   ],
   "source": [
    "oof_list = list()\n",
    "device = torch.device('cuda' if torch.cuda.is_available() else 'cpu')\n",
    "kfold = GroupKFold(n_splits=4)\n",
    "for fold_id, (trn_idx, val_idx) in enumerate(kfold.split(train, train['target'], train['time_id'])):\n",
    "    \n",
    "    print(f'Training Fold: {fold_id}\\n')\n",
    "    \n",
    "    df_train = train.iloc[trn_idx]\n",
    "    df_valid = train.iloc[val_idx]\n",
    "    \n",
    "    train_set = UMPDataset(df_train, mode='train')\n",
    "    valid_set = UMPDataset(df_valid, mode='valid')\n",
    "    dataloaders = {\n",
    "        'train': DataLoader(train_set, batch_size=2048, num_workers=4, pin_memory=True, shuffle=True),\n",
    "        'valid': DataLoader(valid_set, batch_size=2048, num_workers=4, pin_memory=True, shuffle=False)\n",
    "    }\n",
    "    \n",
    "    _, oof = train_one_fold(dataloaders, fold_id, split_m=\"time\")\n",
    "    print(oof.head())\n",
    "    oof_list.append(oof)"
   ]
  },
  {
   "cell_type": "code",
   "execution_count": 14,
   "id": "pacific-quebec",
   "metadata": {},
   "outputs": [
    {
     "name": "stdout",
     "output_type": "stream",
     "text": [
      "oof pearson score: 0.9013074423511269\n",
      "oof pearson score: 0.9013074423511269\n"
     ]
    }
   ],
   "source": [
    "oof = pd.concat(oof_list)\n",
    "print('oof pearson score:', oof['pred'].corr(oof['target']))\n",
    "print('oof pearson score:', oof['best_pred'].corr(oof['target']))"
   ]
  },
  {
   "cell_type": "code",
   "execution_count": null,
   "id": "cooked-supervision",
   "metadata": {},
   "outputs": [],
   "source": [
    "y = a x1 + b x2 + c \n",
    "a+b = 1\n",
    "\n"
   ]
  },
  {
   "cell_type": "code",
   "execution_count": null,
   "id": "lyric-studio",
   "metadata": {},
   "outputs": [],
   "source": []
  },
  {
   "cell_type": "code",
   "execution_count": null,
   "id": "essential-gross",
   "metadata": {},
   "outputs": [],
   "source": []
  },
  {
   "cell_type": "code",
   "execution_count": null,
   "id": "motivated-promotion",
   "metadata": {},
   "outputs": [],
   "source": []
  },
  {
   "cell_type": "code",
   "execution_count": null,
   "id": "stuck-clarity",
   "metadata": {},
   "outputs": [],
   "source": []
  },
  {
   "cell_type": "code",
   "execution_count": null,
   "id": "associate-infrastructure",
   "metadata": {},
   "outputs": [],
   "source": []
  },
  {
   "cell_type": "code",
   "execution_count": 11,
   "id": "guided-brazil",
   "metadata": {},
   "outputs": [
    {
     "data": {
      "text/plain": [
       "4.963114754098361"
      ]
     },
     "execution_count": 11,
     "metadata": {},
     "output_type": "execute_result"
    }
   ],
   "source": [
    "len(train['time_id'].unique())/244"
   ]
  },
  {
   "cell_type": "code",
   "execution_count": 12,
   "id": "answering-spectrum",
   "metadata": {},
   "outputs": [],
   "source": [
    "c = train.groupby(\"investment_id\")['target']"
   ]
  },
  {
   "cell_type": "code",
   "execution_count": 13,
   "id": "welcome-survivor",
   "metadata": {},
   "outputs": [
    {
     "data": {
      "text/plain": [
       "<pandas.core.groupby.generic.SeriesGroupBy object at 0x7f3a2309e8e0>"
      ]
     },
     "execution_count": 13,
     "metadata": {},
     "output_type": "execute_result"
    }
   ],
   "source": [
    "c"
   ]
  },
  {
   "cell_type": "code",
   "execution_count": null,
   "id": "adapted-yield",
   "metadata": {},
   "outputs": [],
   "source": []
  }
 ],
 "metadata": {
  "kernelspec": {
   "display_name": "Python 3",
   "language": "python",
   "name": "python3"
  },
  "language_info": {
   "codemirror_mode": {
    "name": "ipython",
    "version": 3
   },
   "file_extension": ".py",
   "mimetype": "text/x-python",
   "name": "python",
   "nbconvert_exporter": "python",
   "pygments_lexer": "ipython3",
   "version": "3.8.5"
  }
 },
 "nbformat": 4,
 "nbformat_minor": 5
}
