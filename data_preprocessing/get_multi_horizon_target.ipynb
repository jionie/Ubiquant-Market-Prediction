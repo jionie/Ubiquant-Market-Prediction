{
 "cells": [
  {
   "cell_type": "code",
   "execution_count": null,
   "id": "75580f28",
   "metadata": {},
   "outputs": [],
   "source": [
    "import os\n",
    "import numpy as np\n",
    "import pandas as pd\n",
    "from scipy.stats import pearsonr\n",
    "from tqdm import tqdm\n",
    "from joblib import load, Parallel, delayed"
   ]
  },
  {
   "cell_type": "code",
   "execution_count": null,
   "id": "077f510d",
   "metadata": {},
   "outputs": [],
   "source": [
    "data_path = \"../../inputs/ubiquant-market-prediction\"\n",
    "\n",
    "train = pd.read_pickle(os.path.join(data_path, \"train.pkl\"))"
   ]
  },
  {
   "cell_type": "code",
   "execution_count": null,
   "id": "0e36abae",
   "metadata": {},
   "outputs": [],
   "source": [
    "all_investment_ids = sorted(list(dict.fromkeys(train[\"investment_id\"])))\n",
    "all_time_ids = sorted(list(dict.fromkeys(train[\"time_id\"])))"
   ]
  },
  {
   "cell_type": "code",
   "execution_count": null,
   "id": "f9c68e36",
   "metadata": {},
   "outputs": [],
   "source": [
    "train.head()"
   ]
  },
  {
   "cell_type": "markdown",
   "id": "5546f2e8",
   "metadata": {},
   "source": [
    "# get 2d targets"
   ]
  },
  {
   "cell_type": "code",
   "execution_count": null,
   "id": "77beade0",
   "metadata": {},
   "outputs": [],
   "source": [
    "def get_targets_per_investment(data_df, investment_id):\n",
    "    \n",
    "    targets_per_investment = pd.DataFrame({\"time_id\": all_time_ids})\n",
    "    targets_per_investment = pd.merge(targets_per_investment, data_df, on=[\"time_id\"], how=\"left\").rename(columns={\"target\": investment_id})\n",
    "    \n",
    "    return targets_per_investment[investment_id]\n",
    "\n",
    "targets = Parallel(n_jobs=12, verbose=1)(delayed(get_targets_per_investment)(\n",
    "    train.loc[train[\"investment_id\"] == investment_id, [\"time_id\", \"target\"]].reset_index(drop=True), investment_id) for investment_id in all_investment_ids)\n",
    "\n",
    "targets = [pd.DataFrame({\"time_id\" : all_time_ids})] + targets\n",
    "targets = pd.concat(targets, axis=1)"
   ]
  },
  {
   "cell_type": "markdown",
   "id": "cd571e6d",
   "metadata": {},
   "source": [
    "# get 2d avg targets"
   ]
  },
  {
   "cell_type": "code",
   "execution_count": null,
   "id": "2d308ba4",
   "metadata": {},
   "outputs": [],
   "source": [
    "targets_lag_1 = targets.copy()\n",
    "targets_lag_2 = targets.copy()\n",
    "targets_lag_3 = targets.copy()\n",
    "targets_lag_4 = targets.copy()\n",
    "\n",
    "targets_lag_1[all_investment_ids] = targets_lag_1[all_investment_ids].shift(-1).ffill()\n",
    "targets_lag_2[all_investment_ids] = targets_lag_2[all_investment_ids].shift(-2).ffill()\n",
    "targets_lag_3[all_investment_ids] = targets_lag_3[all_investment_ids].shift(-3).ffill()\n",
    "targets_lag_4[all_investment_ids] = targets_lag_4[all_investment_ids].shift(-4).ffill()"
   ]
  },
  {
   "cell_type": "code",
   "execution_count": null,
   "id": "678bd1d1",
   "metadata": {},
   "outputs": [],
   "source": [
    "avg_targets = targets.copy()\n",
    "\n",
    "avg_targets[all_investment_ids] = (\n",
    "    5 * targets[all_investment_ids].values + \\\n",
    "    4 * targets_lag_1[all_investment_ids].values + \\\n",
    "    3 * targets_lag_2[all_investment_ids].values + \\\n",
    "    2 * targets_lag_3[all_investment_ids].values + \\\n",
    "    1 * targets_lag_4[all_investment_ids].values\n",
    ") / 5"
   ]
  },
  {
   "cell_type": "code",
   "execution_count": null,
   "id": "0944a91a",
   "metadata": {},
   "outputs": [],
   "source": [
    "avg_targets.head()"
   ]
  },
  {
   "cell_type": "code",
   "execution_count": null,
   "id": "90cdcaf2",
   "metadata": {},
   "outputs": [],
   "source": [
    "targets.head()"
   ]
  },
  {
   "cell_type": "code",
   "execution_count": null,
   "id": "797ad828",
   "metadata": {},
   "outputs": [],
   "source": [
    "avg_targets_normalized = avg_targets.copy()\n",
    "targets_normalized = targets.copy()\n",
    "avg_targets_demean_normalized = avg_targets.copy()\n",
    "targets_demean_normalized = targets.copy()\n",
    "targets_demean_normalized\n",
    "\n",
    "avg_targets_demean_normalized[all_investment_ids] = (avg_targets_normalized[all_investment_ids] - np.mean(avg_targets_normalized[all_investment_ids])) / np.std(avg_targets_normalized[all_investment_ids])\n",
    "targets_demean_normalized[all_investment_ids] = (targets_normalized[all_investment_ids] - np.mean(targets_normalized[all_investment_ids])) / np.std(targets_normalized[all_investment_ids])\n",
    "avg_targets_normalized[all_investment_ids] = avg_targets_normalized[all_investment_ids] / np.std(avg_targets_normalized[all_investment_ids])\n",
    "targets_normalized[all_investment_ids] = targets_normalized[all_investment_ids] / np.std(targets_normalized[all_investment_ids])"
   ]
  },
  {
   "cell_type": "code",
   "execution_count": null,
   "id": "4cf08184",
   "metadata": {},
   "outputs": [],
   "source": [
    "avg_targets_values = avg_targets[all_investment_ids].values.flatten()\n",
    "targets_values = targets[all_investment_ids].values.flatten()\n",
    "\n",
    "targets_values = targets_values[~np.isnan(avg_targets_values)]\n",
    "avg_targets_values = avg_targets_values[~np.isnan(avg_targets_values)]\n",
    "\n",
    "corr, _  = pearsonr(targets_values, avg_targets_values)\n",
    "\n",
    "print(corr)"
   ]
  },
  {
   "cell_type": "code",
   "execution_count": null,
   "id": "af105d18",
   "metadata": {},
   "outputs": [],
   "source": [
    "avg_targets_normalized_values = avg_targets_normalized[all_investment_ids].values.flatten()\n",
    "targets_values = targets[all_investment_ids].values.flatten()\n",
    "\n",
    "targets_values = targets_values[~np.isnan(avg_targets_normalized_values)]\n",
    "avg_targets_normalized_values = avg_targets_normalized_values[~np.isnan(avg_targets_normalized_values)]\n",
    "\n",
    "corr, _  = pearsonr(targets_values, avg_targets_normalized_values)\n",
    "\n",
    "print(corr)"
   ]
  },
  {
   "cell_type": "code",
   "execution_count": null,
   "id": "9df13028",
   "metadata": {},
   "outputs": [],
   "source": [
    "avg_targets_demean_normalized_values = avg_targets_demean_normalized[all_investment_ids].values.flatten()\n",
    "targets_values = targets[all_investment_ids].values.flatten()\n",
    "\n",
    "targets_values = targets_values[~np.isnan(avg_targets_demean_normalized_values)]\n",
    "avg_targets_demean_normalized_values = avg_targets_demean_normalized_values[~np.isnan(avg_targets_demean_normalized_values)]\n",
    "\n",
    "corr, _  = pearsonr(targets_values, avg_targets_demean_normalized_values)\n",
    "\n",
    "print(corr)"
   ]
  },
  {
   "cell_type": "code",
   "execution_count": null,
   "id": "ca816f6c",
   "metadata": {},
   "outputs": [],
   "source": [
    "targets_normalized_values = targets_normalized[all_investment_ids].values.flatten()\n",
    "targets_values = targets[all_investment_ids].values.flatten()\n",
    "\n",
    "targets_values = targets_values[~np.isnan(targets_normalized_values)]\n",
    "targets_normalized_values = targets_normalized_values[~np.isnan(targets_normalized_values)]\n",
    "\n",
    "corr, _  = pearsonr(targets_values, targets_normalized_values)\n",
    "\n",
    "print(corr)"
   ]
  },
  {
   "cell_type": "code",
   "execution_count": null,
   "id": "e032929b",
   "metadata": {},
   "outputs": [],
   "source": [
    "targets_demean_normalized_values = targets_demean_normalized[all_investment_ids].values.flatten()\n",
    "targets_values = targets[all_investment_ids].values.flatten()\n",
    "\n",
    "targets_values = targets_values[~np.isnan(targets_demean_normalized_values)]\n",
    "targets_demean_normalized_values = targets_demean_normalized_values[~np.isnan(targets_demean_normalized_values)]\n",
    "\n",
    "corr, _  = pearsonr(targets_values, targets_demean_normalized_values)\n",
    "\n",
    "print(corr)"
   ]
  },
  {
   "cell_type": "markdown",
   "id": "befa8692",
   "metadata": {},
   "source": [
    "# append avg targets"
   ]
  },
  {
   "cell_type": "code",
   "execution_count": null,
   "id": "7c977cc0",
   "metadata": {},
   "outputs": [],
   "source": [
    "# train[\"avg_target\"] = train[\"target\"].copy()\n",
    "# train[\"avg_target_normalized\"] = train[\"target\"].copy()\n",
    "# train[\"target_normalized\"] = train[\"target\"].copy()\n",
    "# train[\"avg_target_demean_normalized\"] = train[\"target\"].copy()\n",
    "# train[\"target_demean_normalized\"] = train[\"target\"].copy()\n",
    "\n",
    "train[\"target_demodel_demean_normalized\"] = train[\"target\"].copy()"
   ]
  },
  {
   "cell_type": "code",
   "execution_count": null,
   "id": "bf228780",
   "metadata": {},
   "outputs": [],
   "source": [
    "avg_target_arr = []\n",
    "avg_target_normalized_arr = []\n",
    "target_normalized_arr = []\n",
    "avg_target_demean_normalized_arr = []\n",
    "target_demean_normalized_arr = []\n",
    "\n",
    "time_id_list, investment_id_list = train[\"time_id\"].tolist(), train[\"investment_id\"].tolist()\n",
    "\n",
    "for row_idx in tqdm(range(len(time_id_list))):\n",
    "    \n",
    "    time_id, investment_id = time_id_list[row_idx], investment_id_list[row_idx]\n",
    "    \n",
    "    avg_target_value = avg_targets.loc[avg_targets[\"time_id\"] == time_id, investment_id].values[0]\n",
    "    avg_target_arr.append(avg_target_value)\n",
    "    \n",
    "    avg_target_normalized_value = avg_targets_normalized.loc[avg_targets_normalized[\"time_id\"] == time_id, investment_id].values[0]\n",
    "    avg_target_normalized_arr.append(avg_target_normalized_value)\n",
    "    \n",
    "    target_normalized_value = targets_normalized.loc[targets_normalized[\"time_id\"] == time_id, investment_id].values[0]\n",
    "    target_normalized_arr.append(target_normalized_value)\n",
    "    \n",
    "    avg_target_demean_normalized_value = avg_targets_demean_normalized.loc[avg_targets_demean_normalized[\"time_id\"] == time_id, investment_id].values[0]\n",
    "    avg_target_demean_normalized_arr.append(avg_target_demean_normalized_value)\n",
    "    \n",
    "    target_demean_normalized_value = targets_demean_normalized.loc[targets_demean_normalized[\"time_id\"] == time_id, investment_id].values[0]\n",
    "    target_demean_normalized_arr.append(target_demean_normalized_value)\n",
    "    \n",
    "avg_target_arr = np.array(avg_target_arr)\n",
    "avg_target_normalized_arr = np.array(avg_target_normalized_arr)\n",
    "target_normalized_arr = np.array(target_normalized_arr)\n",
    "avg_target_demean_normalized_arr = np.array(avg_target_demean_normalized_arr)\n",
    "target_demean_normalized_arr = np.array(target_demean_normalized_arr)"
   ]
  },
  {
   "cell_type": "code",
   "execution_count": null,
   "id": "4c3dcca3",
   "metadata": {},
   "outputs": [],
   "source": [
    "train[\"avg_target\"] = avg_target_arr\n",
    "train[\"avg_target_normalized\"] = avg_target_normalized_arr\n",
    "train[\"target_normalized\"] = target_normalized_arr\n",
    "train[\"avg_target_demean_normalized\"] = avg_target_demean_normalized_arr\n",
    "train[\"target_demean_normalized\"] = target_demean_normalized_arr\n",
    "train.shape"
   ]
  },
  {
   "cell_type": "code",
   "execution_count": null,
   "id": "9103dd1f",
   "metadata": {},
   "outputs": [],
   "source": [
    "train = train.dropna(axis=0)\n",
    "train.shape"
   ]
  },
  {
   "cell_type": "markdown",
   "id": "daeee75b",
   "metadata": {},
   "source": [
    "# save new train"
   ]
  },
  {
   "cell_type": "code",
   "execution_count": null,
   "id": "88d6d71d",
   "metadata": {},
   "outputs": [],
   "source": [
    "train.to_pickle(os.path.join(data_path, \"train_new.pkl\"))"
   ]
  },
  {
   "cell_type": "code",
   "execution_count": null,
   "id": "8733397b",
   "metadata": {},
   "outputs": [],
   "source": [
    "2 peaks 298, 294, 291, 287\n",
    "3 peaks 296,"
   ]
  }
 ],
 "metadata": {
  "kernelspec": {
   "display_name": "kaggle",
   "language": "python",
   "name": "kaggle"
  },
  "language_info": {
   "codemirror_mode": {
    "name": "ipython",
    "version": 3
   },
   "file_extension": ".py",
   "mimetype": "text/x-python",
   "name": "python",
   "nbconvert_exporter": "python",
   "pygments_lexer": "ipython3",
   "version": "3.8.8"
  }
 },
 "nbformat": 4,
 "nbformat_minor": 5
}
