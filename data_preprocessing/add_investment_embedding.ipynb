{
 "cells": [
  {
   "cell_type": "code",
   "execution_count": null,
   "id": "2f070553",
   "metadata": {},
   "outputs": [],
   "source": [
    "import os\n",
    "\n",
    "import numpy as np\n",
    "import pandas as pd\n",
    "\n",
    "from joblib import dump, load"
   ]
  },
  {
   "cell_type": "markdown",
   "id": "44ee2112",
   "metadata": {},
   "source": [
    "# load data"
   ]
  },
  {
   "cell_type": "code",
   "execution_count": null,
   "id": "22257496",
   "metadata": {},
   "outputs": [],
   "source": [
    "data_path = \"../../inputs/ubiquant-market-prediction\"\n",
    "# train = pd.read_pickle(os.path.join(data_path, \"train_normalized.pkl\"))\n",
    "train = pd.read_pickle(os.path.join(data_path, \"train_demodel_cnn.pkl\"))"
   ]
  },
  {
   "cell_type": "markdown",
   "id": "e24e27e6",
   "metadata": {},
   "source": [
    "# get investment_mapping"
   ]
  },
  {
   "cell_type": "code",
   "execution_count": null,
   "id": "eb7c64d0",
   "metadata": {},
   "outputs": [],
   "source": [
    "all_investment_ids = train[\"investment_id\"].unique().tolist()"
   ]
  },
  {
   "cell_type": "code",
   "execution_count": null,
   "id": "de8b8a15",
   "metadata": {},
   "outputs": [],
   "source": [
    "investment_ids_mapping = {}\n",
    "\n",
    "for investment_id_idx, investment_id in enumerate(all_investment_ids):\n",
    "    investment_ids_mapping[investment_id] = investment_id_idx"
   ]
  },
  {
   "cell_type": "code",
   "execution_count": null,
   "id": "316cf427",
   "metadata": {},
   "outputs": [],
   "source": [
    "len(investment_ids_mapping)"
   ]
  },
  {
   "cell_type": "code",
   "execution_count": null,
   "id": "e7ed5d9c",
   "metadata": {},
   "outputs": [],
   "source": [
    "dump(investment_ids_mapping, \"investment_ids_mapping.pkl\")"
   ]
  },
  {
   "cell_type": "code",
   "execution_count": null,
   "id": "5df7f3bd",
   "metadata": {},
   "outputs": [],
   "source": [
    "train[\"investment_embed\"] = train[\"investment_id\"].map(investment_ids_mapping).fillna(len(investment_ids_mapping)).astype(np.int16)"
   ]
  },
  {
   "cell_type": "code",
   "execution_count": null,
   "id": "0ab6f8f8",
   "metadata": {},
   "outputs": [],
   "source": [
    "# train.to_pickle(os.path.join(data_path, \"train_normalized.pkl\"))\n",
    "train.to_pickle(os.path.join(data_path, \"train_demodel_cnn.pkl\"))"
   ]
  },
  {
   "cell_type": "code",
   "execution_count": null,
   "id": "eb7c4803",
   "metadata": {},
   "outputs": [],
   "source": [
    "investment_ids_mapping = load(\"investment_ids_mapping.pkl\")"
   ]
  },
  {
   "cell_type": "code",
   "execution_count": null,
   "id": "37294a4d",
   "metadata": {},
   "outputs": [],
   "source": [
    "len(investment_ids_mapping)"
   ]
  },
  {
   "cell_type": "code",
   "execution_count": null,
   "id": "8b1820e5",
   "metadata": {},
   "outputs": [],
   "source": []
  }
 ],
 "metadata": {
  "kernelspec": {
   "display_name": "kaggle",
   "language": "python",
   "name": "kaggle"
  },
  "language_info": {
   "codemirror_mode": {
    "name": "ipython",
    "version": 3
   },
   "file_extension": ".py",
   "mimetype": "text/x-python",
   "name": "python",
   "nbconvert_exporter": "python",
   "pygments_lexer": "ipython3",
   "version": "3.8.8"
  }
 },
 "nbformat": 4,
 "nbformat_minor": 5
}
