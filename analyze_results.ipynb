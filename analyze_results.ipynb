{
 "cells": [
  {
   "cell_type": "code",
   "execution_count": null,
   "id": "24cb42a1",
   "metadata": {},
   "outputs": [],
   "source": [
    "import os\n",
    "import numpy as np\n",
    "import pandas as pd\n",
    "from tqdm import tqdm\n",
    "from joblib import load, dump, Parallel, delayed\n",
    "\n",
    "from scipy.stats import pearsonr\n",
    "from sklearn.model_selection import GroupKFold\n",
    "from sklearn.preprocessing import StandardScaler\n",
    "from sklearn.linear_model import Lasso"
   ]
  },
  {
   "cell_type": "markdown",
   "id": "cdd4767b",
   "metadata": {},
   "source": [
    "# load data"
   ]
  },
  {
   "cell_type": "code",
   "execution_count": null,
   "id": "38dc92f0",
   "metadata": {},
   "outputs": [],
   "source": [
    "data_path = \"../inputs/ubiquant-market-prediction\"\n",
    "train = pd.read_pickle(os.path.join(data_path, \"train_demodel.pkl\"))"
   ]
  },
  {
   "cell_type": "markdown",
   "id": "d3e500ba",
   "metadata": {},
   "source": [
    "# oof"
   ]
  },
  {
   "cell_type": "code",
   "execution_count": null,
   "id": "33857190",
   "metadata": {},
   "outputs": [],
   "source": [
    "oof_arr = [0] * len(train)"
   ]
  },
  {
   "cell_type": "code",
   "execution_count": null,
   "id": "e274e66f",
   "metadata": {},
   "outputs": [],
   "source": [
    "kfold = GroupKFold(n_splits=4)\n",
    "\n",
    "for fold_id, (trn_idx, val_idx) in enumerate(kfold.split(train, train[\"target\"], train[\"time_id\"])):\n",
    "    \n",
    "    pred = load(\"../ckpts/cnn_seed_2022/fold-{}-ohem-1-CyclicLR-lr-0.004-hidden-64-dropout-0.15-l2-0.02-l1-0.0002-epoch-15-direction-1/val_preds_fold_{}.pkl\".format(fold_id, fold_id))\n",
    "    \n",
    "    for pred_idx, idx in enumerate(val_idx):\n",
    "        oof_arr[idx] = pred[pred_idx]"
   ]
  },
  {
   "cell_type": "code",
   "execution_count": null,
   "id": "24db7612",
   "metadata": {},
   "outputs": [],
   "source": [
    "train[\"oof_cnn\"] = np.array(oof_arr)"
   ]
  },
  {
   "cell_type": "code",
   "execution_count": null,
   "id": "a62b8de7",
   "metadata": {},
   "outputs": [],
   "source": [
    "train[\"oof_cnn\"].head()"
   ]
  },
  {
   "cell_type": "code",
   "execution_count": null,
   "id": "e8b6f3b0",
   "metadata": {},
   "outputs": [],
   "source": [
    "train[\"target\"].head()"
   ]
  },
  {
   "cell_type": "code",
   "execution_count": null,
   "id": "f045b0ec",
   "metadata": {},
   "outputs": [],
   "source": [
    "corr, _ = pearsonr(train[\"oof_cnn\"].values.flatten(), train[\"target\"].values.flatten())\n",
    "\n",
    "print(corr)"
   ]
  },
  {
   "cell_type": "code",
   "execution_count": null,
   "id": "bf189fa8",
   "metadata": {},
   "outputs": [],
   "source": [
    "avg_corr = []\n",
    "\n",
    "for time_id in tqdm(sorted(list(dict.fromkeys(train[\"time_id\"])))):\n",
    "    \n",
    "    oof_by_time_id = train.loc[train[\"time_id\"] == time_id, \"oof_cnn\"].values.flatten()\n",
    "    target_by_time_id = train.loc[train[\"time_id\"] == time_id, \"target\"].values.flatten()\n",
    "    \n",
    "    corr_by_time_id, _ = pearsonr(oof_by_time_id, target_by_time_id)\n",
    "    avg_corr.append(corr_by_time_id)\n",
    "    \n",
    "print(np.mean(avg_corr))"
   ]
  },
  {
   "cell_type": "markdown",
   "id": "4d8ee08f",
   "metadata": {},
   "source": [
    "# lasso"
   ]
  },
  {
   "cell_type": "code",
   "execution_count": null,
   "id": "1e120b41",
   "metadata": {},
   "outputs": [],
   "source": [
    "lasso = Lasso(alpha=0.1).fit(X=np.expand_dims(train[\"oof_cnn\"].values, axis=1) * 5, y=train[\"target\"].values)"
   ]
  },
  {
   "cell_type": "code",
   "execution_count": null,
   "id": "f98862b8",
   "metadata": {},
   "outputs": [],
   "source": [
    "lasso_pred = lasso.predict(np.expand_dims(train[\"oof_cnn\"].values, axis=1))"
   ]
  },
  {
   "cell_type": "code",
   "execution_count": null,
   "id": "2aec0479",
   "metadata": {},
   "outputs": [],
   "source": [
    "lasso_pred"
   ]
  },
  {
   "cell_type": "code",
   "execution_count": null,
   "id": "237f9827",
   "metadata": {},
   "outputs": [],
   "source": [
    "corr, _ = pearsonr(train[\"oof_cnn\"].values, train[\"target\"].values - 10 * lasso_pred)\n",
    "print(corr)\n",
    "\n",
    "corr, _ = pearsonr(train[\"target\"].values, train[\"target\"].values - 10 * lasso_pred)\n",
    "print(corr)"
   ]
  },
  {
   "cell_type": "code",
   "execution_count": null,
   "id": "61f72825",
   "metadata": {},
   "outputs": [],
   "source": [
    "train[\"target_demodel_cnn\"] = train[\"target\"].values - 10 * lasso_pred"
   ]
  },
  {
   "cell_type": "code",
   "execution_count": null,
   "id": "a72e551d",
   "metadata": {},
   "outputs": [],
   "source": [
    "col = \"target_demodel_cnn\"\n",
    "col_mean = train[[col, \"time_id\"]].groupby(\"time_id\").mean().rename(columns={col : \"{}_mean\".format(col)})\n",
    "col_std = train[[col, \"time_id\"]].groupby(\"time_id\").std().rename(columns={col : \"{}_std\".format(col)})\n",
    "\n",
    "train = train.merge(col_mean, on=\"time_id\")\n",
    "train = train.merge(col_std, on=\"time_id\")\n",
    "\n",
    "train[col] = (train[col] - train[\"{}_mean\".format(col)]) / train[\"{}_std\".format(col)]\n",
    "\n",
    "train = train.drop([\"{}_mean\".format(col), \"{}_std\".format(col)], axis=1)"
   ]
  },
  {
   "cell_type": "code",
   "execution_count": null,
   "id": "f70808f4",
   "metadata": {},
   "outputs": [],
   "source": [
    "demodel_scaler = StandardScaler().fit(np.expand_dims(train[\"target_demodel_cnn\"].values, axis=1))\n",
    "\n",
    "train_demodel_mean, train_demodel_var = demodel_scaler.mean_, demodel_scaler.var_\n",
    "\n",
    "train[\"target_demodel_cnn\"] = train[\"target_demodel_cnn\"].clip(\n",
    "            train_demodel_mean[0] - 3 * np.sqrt(train_demodel_var[0]), \n",
    "            train_demodel_mean[0] + 3 * np.sqrt(train_demodel_var[0])\n",
    "        )"
   ]
  },
  {
   "cell_type": "code",
   "execution_count": null,
   "id": "d9c69067",
   "metadata": {},
   "outputs": [],
   "source": [
    "corr, _ = pearsonr(train[\"target\"].values, train[\"target_demodel_cnn\"].values)\n",
    "print(corr)"
   ]
  },
  {
   "cell_type": "code",
   "execution_count": null,
   "id": "6e616ada",
   "metadata": {},
   "outputs": [],
   "source": [
    "train.to_pickle(os.path.join(data_path, \"train_demodel_cnn.pkl\"))"
   ]
  }
 ],
 "metadata": {
  "kernelspec": {
   "display_name": "kaggle",
   "language": "python",
   "name": "kaggle"
  },
  "language_info": {
   "codemirror_mode": {
    "name": "ipython",
    "version": 3
   },
   "file_extension": ".py",
   "mimetype": "text/x-python",
   "name": "python",
   "nbconvert_exporter": "python",
   "pygments_lexer": "ipython3",
   "version": "3.8.8"
  }
 },
 "nbformat": 4,
 "nbformat_minor": 5
}
